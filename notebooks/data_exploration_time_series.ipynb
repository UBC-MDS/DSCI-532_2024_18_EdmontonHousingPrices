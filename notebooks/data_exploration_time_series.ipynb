{
 "cells": [
  {
   "cell_type": "code",
   "execution_count": 1,
   "id": "54cad6e5-4234-4cf5-83a7-5c8fdc0ec396",
   "metadata": {},
   "outputs": [],
   "source": [
    "import numpy as np\n",
    "import pandas as pd"
   ]
  },
  {
   "cell_type": "code",
   "execution_count": 4,
   "id": "5a2d1ca7-2981-4f38-82a6-2f367c4c84f0",
   "metadata": {},
   "outputs": [],
   "source": [
    "data = pd.read_csv('../data/raw/listings.csv')"
   ]
  },
  {
   "cell_type": "code",
   "execution_count": 11,
   "id": "a5d0b197-10ba-48e7-8dc2-3c12f117b85a",
   "metadata": {
    "scrolled": true
   },
   "outputs": [
    {
     "name": "stdout",
     "output_type": "stream",
     "text": [
      "id: 13188\n",
      "listing_url: https://www.airbnb.com/rooms/13188\n",
      "scrape_id: 20231213195611\n",
      "last_scraped: 2023-12-14\n",
      "source: city scrape\n",
      "name: Rental unit in Vancouver · ★4.84 · Studio · 2 beds · 1 bath\n",
      "description: nan\n",
      "neighborhood_overview: The uber hip Main street area is a short walk of 6 minutes to the east.  Dozens of dining options.  Great supermarkets, butcher ,cafe, pub, tiki lounge, ethnic restaurants of all sorts.  Sprinkled with antique stores and retro clothing stores.  To the West, just down the hill from the Canada Line station at King Edward is Cambie Village, theatre, flamenco dancing, fine dining, ice cream and more.\n",
      "picture_url: https://a0.muscache.com/pictures/8408188/e1af63e4_original.jpg\n",
      "host_id: 51466\n",
      "host_url: https://www.airbnb.com/users/show/51466\n",
      "host_name: Ian And Emma\n",
      "host_since: 2009-11-04\n",
      "host_location: Vancouver, Canada\n",
      "host_about: We are a family who love to travel in comfort and enjoy the ethos and community spirit of AirBNB. We also host on AirBNB so travelers can enjoy staying with us in Vancouver!\n",
      "Bon Voyage !!\n",
      "host_response_time: within an hour\n",
      "host_response_rate: 100%\n",
      "host_acceptance_rate: 100%\n",
      "host_is_superhost: f\n",
      "host_thumbnail_url: https://a0.muscache.com/im/pictures/user/0b83b6f7-98b7-4a0e-943f-d28ee8ba6841.jpg?aki_policy=profile_small\n",
      "host_picture_url: https://a0.muscache.com/im/pictures/user/0b83b6f7-98b7-4a0e-943f-d28ee8ba6841.jpg?aki_policy=profile_x_medium\n",
      "host_neighbourhood: Riley Park\n",
      "host_listings_count: 1\n",
      "host_total_listings_count: 3\n",
      "host_verifications: ['email', 'phone']\n",
      "host_has_profile_pic: t\n",
      "host_identity_verified: t\n",
      "neighbourhood: Vancouver, British Columbia, Canada\n",
      "neighbourhood_cleansed: Riley Park\n",
      "neighbourhood_group_cleansed: nan\n",
      "latitude: 49.24773\n",
      "longitude: -123.10509\n",
      "property_type: Entire rental unit\n",
      "room_type: Entire home/apt\n",
      "accommodates: 4\n",
      "bathrooms: nan\n",
      "bathrooms_text: 1 bath\n",
      "bedrooms: nan\n",
      "beds: 2.0\n",
      "amenities: []\n",
      "price: $150.00\n",
      "minimum_nights: 2\n",
      "maximum_nights: 180\n",
      "minimum_minimum_nights: 1\n",
      "maximum_minimum_nights: 2\n",
      "minimum_maximum_nights: 1125\n",
      "maximum_maximum_nights: 1125\n",
      "minimum_nights_avg_ntm: 2.0\n",
      "maximum_nights_avg_ntm: 1125.0\n",
      "calendar_updated: nan\n",
      "has_availability: t\n",
      "availability_30: 0\n",
      "availability_60: 0\n",
      "availability_90: 0\n",
      "availability_365: 0\n",
      "calendar_last_scraped: 2023-12-14\n",
      "number_of_reviews: 283\n",
      "number_of_reviews_ltm: 30\n",
      "number_of_reviews_l30d: 1\n",
      "first_review: 2010-02-21\n",
      "last_review: 2023-11-28\n",
      "review_scores_rating: 4.84\n",
      "review_scores_accuracy: 4.88\n",
      "review_scores_cleanliness: 4.84\n",
      "review_scores_checkin: 4.86\n",
      "review_scores_communication: 4.92\n",
      "review_scores_location: 4.88\n",
      "review_scores_value: 4.8\n",
      "license: 23-156488\n",
      "instant_bookable: t\n",
      "calculated_host_listings_count: 1\n",
      "calculated_host_listings_count_entire_homes: 1\n",
      "calculated_host_listings_count_private_rooms: 0\n",
      "calculated_host_listings_count_shared_rooms: 0\n",
      "reviews_per_month: 1.68\n",
      "quarter: 2023-3\n"
     ]
    }
   ],
   "source": [
    "for col, value in data.iloc[0].items():\n",
    "    print(f\"{col}: {value}\")"
   ]
  },
  {
   "cell_type": "code",
   "execution_count": 13,
   "id": "568695ff-93b7-459f-baee-2dd0a10cadec",
   "metadata": {},
   "outputs": [
    {
     "data": {
      "text/plain": [
       "0         0\n",
       "1        30\n",
       "2         0\n",
       "3        10\n",
       "4         0\n",
       "         ..\n",
       "19736    30\n",
       "19737    23\n",
       "19738    18\n",
       "19739    24\n",
       "19740    16\n",
       "Name: availability_30, Length: 19741, dtype: int64"
      ]
     },
     "execution_count": 13,
     "metadata": {},
     "output_type": "execute_result"
    }
   ],
   "source": [
    "data['availability_30']"
   ]
  },
  {
   "cell_type": "code",
   "execution_count": 16,
   "id": "66cb942c-1bb7-4142-9e63-d62b0d6a7ab0",
   "metadata": {},
   "outputs": [
    {
     "data": {
      "text/plain": [
       "0       NaN\n",
       "6691    NaN\n",
       "13046   NaN\n",
       "Name: calendar_updated, dtype: float64"
      ]
     },
     "execution_count": 16,
     "metadata": {},
     "output_type": "execute_result"
    }
   ],
   "source": [
    "data[data['id']==13188]['calendar_updated']"
   ]
  },
  {
   "cell_type": "code",
   "execution_count": 17,
   "id": "7109a065-0d8a-4bf1-a22f-a07a14725c7e",
   "metadata": {},
   "outputs": [],
   "source": [
    "import pandas as pd\n",
    "import numpy as np\n",
    "from datetime import datetime"
   ]
  },
  {
   "cell_type": "code",
   "execution_count": 36,
   "id": "1bc3ea76-8c17-4f11-b014-3ab73fc76d35",
   "metadata": {},
   "outputs": [
    {
     "data": {
      "text/plain": [
       "array(['Riley Park', 'Downtown', 'Kensington-Cedar Cottage',\n",
       "       'Hastings-Sunrise', 'Grandview-Woodland', 'Mount Pleasant',\n",
       "       'West End', 'Renfrew-Collingwood', 'Kitsilano',\n",
       "       'Downtown Eastside', 'Arbutus Ridge', 'Killarney', 'South Cambie',\n",
       "       'Fairview', 'Dunbar Southlands', 'Strathcona', 'Shaughnessy',\n",
       "       'West Point Grey', 'Kerrisdale', 'Sunset', 'Victoria-Fraserview',\n",
       "       'Marpole', 'Oakridge'], dtype=object)"
      ]
     },
     "execution_count": 36,
     "metadata": {},
     "output_type": "execute_result"
    }
   ],
   "source": [
    "data['neighbourhood_cleansed'].unique()"
   ]
  },
  {
   "cell_type": "code",
   "execution_count": 37,
   "id": "22d98bcc-43ee-4b05-ba0b-20993c7cbb7f",
   "metadata": {},
   "outputs": [],
   "source": [
    "neighbourhoods_ = data['neighbourhood_cleansed'].unique()"
   ]
  },
  {
   "cell_type": "code",
   "execution_count": 49,
   "id": "31cb2be6-2d5d-4ede-b3d9-b6847f0a53a9",
   "metadata": {},
   "outputs": [
    {
     "data": {
      "text/html": [
       "<div>\n",
       "<style scoped>\n",
       "    .dataframe tbody tr th:only-of-type {\n",
       "        vertical-align: middle;\n",
       "    }\n",
       "\n",
       "    .dataframe tbody tr th {\n",
       "        vertical-align: top;\n",
       "    }\n",
       "\n",
       "    .dataframe thead th {\n",
       "        text-align: right;\n",
       "    }\n",
       "</style>\n",
       "<table border=\"1\" class=\"dataframe\">\n",
       "  <thead>\n",
       "    <tr style=\"text-align: right;\">\n",
       "      <th></th>\n",
       "      <th>quarter</th>\n",
       "      <th>id</th>\n",
       "      <th>availability_30</th>\n",
       "      <th>availability_60</th>\n",
       "      <th>availability_90</th>\n",
       "      <th>availability_365</th>\n",
       "      <th>price</th>\n",
       "      <th>review_scores_rating</th>\n",
       "      <th>number_of_reviews</th>\n",
       "      <th>number_of_reviews_ltm</th>\n",
       "      <th>...</th>\n",
       "      <th>reviews_per_month</th>\n",
       "      <th>host_listings_count</th>\n",
       "      <th>host_total_listings_count</th>\n",
       "      <th>first_review</th>\n",
       "      <th>last_review</th>\n",
       "      <th>neighbourhood</th>\n",
       "      <th>room_type</th>\n",
       "      <th>number_of_guests</th>\n",
       "      <th>number_of_beds</th>\n",
       "      <th>number_of_bathrooms</th>\n",
       "    </tr>\n",
       "  </thead>\n",
       "  <tbody>\n",
       "    <tr>\n",
       "      <th>0</th>\n",
       "      <td>2008-1</td>\n",
       "      <td>1</td>\n",
       "      <td>28</td>\n",
       "      <td>38</td>\n",
       "      <td>53</td>\n",
       "      <td>328</td>\n",
       "      <td>556.73</td>\n",
       "      <td>3.55</td>\n",
       "      <td>490</td>\n",
       "      <td>7</td>\n",
       "      <td>...</td>\n",
       "      <td>5.77</td>\n",
       "      <td>9</td>\n",
       "      <td>1</td>\n",
       "      <td>2017-11-20</td>\n",
       "      <td>2018-07-03</td>\n",
       "      <td>Riley Park</td>\n",
       "      <td>Shared room</td>\n",
       "      <td>7</td>\n",
       "      <td>4</td>\n",
       "      <td>1.5</td>\n",
       "    </tr>\n",
       "    <tr>\n",
       "      <th>1</th>\n",
       "      <td>2008-2</td>\n",
       "      <td>1</td>\n",
       "      <td>23</td>\n",
       "      <td>29</td>\n",
       "      <td>56</td>\n",
       "      <td>331</td>\n",
       "      <td>616.49</td>\n",
       "      <td>4.26</td>\n",
       "      <td>318</td>\n",
       "      <td>18</td>\n",
       "      <td>...</td>\n",
       "      <td>9.47</td>\n",
       "      <td>8</td>\n",
       "      <td>8</td>\n",
       "      <td>2018-11-26</td>\n",
       "      <td>2020-09-27</td>\n",
       "      <td>Dunbar Southlands</td>\n",
       "      <td>Shared room</td>\n",
       "      <td>5</td>\n",
       "      <td>6</td>\n",
       "      <td>0.5</td>\n",
       "    </tr>\n",
       "    <tr>\n",
       "      <th>2</th>\n",
       "      <td>2008-3</td>\n",
       "      <td>1</td>\n",
       "      <td>8</td>\n",
       "      <td>10</td>\n",
       "      <td>23</td>\n",
       "      <td>298</td>\n",
       "      <td>342.29</td>\n",
       "      <td>4.63</td>\n",
       "      <td>193</td>\n",
       "      <td>58</td>\n",
       "      <td>...</td>\n",
       "      <td>7.12</td>\n",
       "      <td>9</td>\n",
       "      <td>4</td>\n",
       "      <td>2014-07-22</td>\n",
       "      <td>2015-07-02</td>\n",
       "      <td>Mount Pleasant</td>\n",
       "      <td>Hotel room</td>\n",
       "      <td>4</td>\n",
       "      <td>1</td>\n",
       "      <td>1.0</td>\n",
       "    </tr>\n",
       "    <tr>\n",
       "      <th>3</th>\n",
       "      <td>2008-4</td>\n",
       "      <td>1</td>\n",
       "      <td>3</td>\n",
       "      <td>17</td>\n",
       "      <td>41</td>\n",
       "      <td>316</td>\n",
       "      <td>661.28</td>\n",
       "      <td>4.73</td>\n",
       "      <td>19</td>\n",
       "      <td>34</td>\n",
       "      <td>...</td>\n",
       "      <td>4.28</td>\n",
       "      <td>3</td>\n",
       "      <td>1</td>\n",
       "      <td>2011-08-04</td>\n",
       "      <td>2011-09-12</td>\n",
       "      <td>Downtown Eastside</td>\n",
       "      <td>Hotel room</td>\n",
       "      <td>7</td>\n",
       "      <td>6</td>\n",
       "      <td>2.0</td>\n",
       "    </tr>\n",
       "    <tr>\n",
       "      <th>4</th>\n",
       "      <td>2009-1</td>\n",
       "      <td>1</td>\n",
       "      <td>21</td>\n",
       "      <td>24</td>\n",
       "      <td>54</td>\n",
       "      <td>329</td>\n",
       "      <td>898.06</td>\n",
       "      <td>3.93</td>\n",
       "      <td>428</td>\n",
       "      <td>34</td>\n",
       "      <td>...</td>\n",
       "      <td>5.17</td>\n",
       "      <td>4</td>\n",
       "      <td>6</td>\n",
       "      <td>2013-07-11</td>\n",
       "      <td>2014-05-03</td>\n",
       "      <td>Oakridge</td>\n",
       "      <td>Entire home/apt</td>\n",
       "      <td>8</td>\n",
       "      <td>6</td>\n",
       "      <td>3.5</td>\n",
       "    </tr>\n",
       "  </tbody>\n",
       "</table>\n",
       "<p>5 rows × 25 columns</p>\n",
       "</div>"
      ],
      "text/plain": [
       "  quarter  id  availability_30  availability_60  availability_90  \\\n",
       "0  2008-1   1               28               38               53   \n",
       "1  2008-2   1               23               29               56   \n",
       "2  2008-3   1                8               10               23   \n",
       "3  2008-4   1                3               17               41   \n",
       "4  2009-1   1               21               24               54   \n",
       "\n",
       "   availability_365   price  review_scores_rating  number_of_reviews  \\\n",
       "0               328  556.73                  3.55                490   \n",
       "1               331  616.49                  4.26                318   \n",
       "2               298  342.29                  4.63                193   \n",
       "3               316  661.28                  4.73                 19   \n",
       "4               329  898.06                  3.93                428   \n",
       "\n",
       "   number_of_reviews_ltm  ...  reviews_per_month  host_listings_count  \\\n",
       "0                      7  ...               5.77                    9   \n",
       "1                     18  ...               9.47                    8   \n",
       "2                     58  ...               7.12                    9   \n",
       "3                     34  ...               4.28                    3   \n",
       "4                     34  ...               5.17                    4   \n",
       "\n",
       "   host_total_listings_count  first_review  last_review      neighbourhood  \\\n",
       "0                          1    2017-11-20   2018-07-03         Riley Park   \n",
       "1                          8    2018-11-26   2020-09-27  Dunbar Southlands   \n",
       "2                          4    2014-07-22   2015-07-02     Mount Pleasant   \n",
       "3                          1    2011-08-04   2011-09-12  Downtown Eastside   \n",
       "4                          6    2013-07-11   2014-05-03           Oakridge   \n",
       "\n",
       "         room_type  number_of_guests number_of_beds number_of_bathrooms  \n",
       "0      Shared room                 7              4                 1.5  \n",
       "1      Shared room                 5              6                 0.5  \n",
       "2       Hotel room                 4              1                 1.0  \n",
       "3       Hotel room                 7              6                 2.0  \n",
       "4  Entire home/apt                 8              6                 3.5  \n",
       "\n",
       "[5 rows x 25 columns]"
      ]
     },
     "execution_count": 49,
     "metadata": {},
     "output_type": "execute_result"
    }
   ],
   "source": [
    "def generate_time_series_data_with_ids_and_filters(start_year, end_year, listings_count):\n",
    "    quarters = pd.date_range(start=f'{start_year}-01-01', end=f'{end_year}-12-31', freq='Q').to_period('Q')\n",
    "    listing_ids = np.arange(1, listings_count + 1)\n",
    "\n",
    "    # Creating a dataframe for each listing across all quarters\n",
    "    data_list = []\n",
    "    for listing_id in listing_ids:\n",
    "        data = pd.DataFrame({\n",
    "            'quarter': quarters,\n",
    "            'id': listing_id\n",
    "        })\n",
    "\n",
    "        # Adding other variables\n",
    "        data['availability_30'] = np.random.randint(0, 31, size=len(data))\n",
    "        data['availability_60'] = data['availability_30'] + np.random.randint(0, 31, size=len(data))\n",
    "        data['availability_90'] = data['availability_60'] + np.random.randint(0, 31, size=len(data))\n",
    "        data['availability_365'] = data['availability_90'] + np.random.randint(275, 276, size=len(data))\n",
    "        data['price'] = np.round(np.random.uniform(150, 1000, size=len(data)), 2)\n",
    "        data['review_scores_rating'] = np.round(np.random.uniform(3.5, 5.0, size=len(data)), 2)\n",
    "        data['number_of_reviews'] = np.random.randint(0, 500, size=len(data))\n",
    "        data['number_of_reviews_ltm'] = np.random.randint(0, 100, size=len(data))\n",
    "        data['number_of_reviews_l30d'] = np.random.randint(0, 10, size=len(data))\n",
    "        data['host_response_rate'] = np.round(np.random.uniform(0.0, 1.0, size=len(data)), 2)\n",
    "        data['host_acceptance_rate'] = np.round(np.random.uniform(0.0, 1.0, size=len(data)), 2)\n",
    "        data['minimum_nights'] = np.random.randint(1, 8, size=len(data))\n",
    "        data['maximum_nights'] = np.random.randint(30, 365, size=len(data))\n",
    "        data['reviews_per_month'] = np.round(np.random.uniform(0, 10, size=len(data)), 2)\n",
    "        data['host_listings_count'] = np.random.randint(1, 10, size=len(data))\n",
    "        data['host_total_listings_count'] = np.random.randint(1, 10, size=len(data))\n",
    "        data['first_review'] = pd.to_datetime('2010-01-01') + pd.to_timedelta(np.random.randint(0, 365*10, size=len(data)), unit='D')\n",
    "        data['last_review'] = data['first_review'] + pd.to_timedelta(np.random.randint(0, 365*2, size=len(data)), unit='D')\n",
    "\n",
    "        # Adding filtering variables\n",
    "        neighbourhoods = neighbourhoods_\n",
    "        data['neighbourhood'] = np.random.choice(neighbourhoods, size=len(data))\n",
    "\n",
    "        room_types = ['Entire home/apt', 'Private room', 'Shared room', 'Hotel room']\n",
    "        data['room_type'] = np.random.choice(room_types, size=len(data))\n",
    "\n",
    "        data['number_of_guests'] = np.random.randint(1, 9, size=len(data))\n",
    "        data['number_of_beds'] = np.random.randint(1, 9, size=len(data))\n",
    "        data['number_of_bathrooms'] = np.random.choice([0.5,1,1.5,2,2.5,3,3.5,4,4.5,5,5.5], size=len(data))\n",
    "\n",
    "        data_list.append(data)\n",
    "\n",
    "    # Concatenating all listings data\n",
    "    full_data = pd.concat(data_list, ignore_index=True)\n",
    "    full_data['quarter'] = full_data['quarter'].dt.strftime('%Y-%q')\n",
    "\n",
    "    return full_data\n",
    "\n",
    "# Generating data with IDs and filtering variables for 1000 listings from 2008 to 2023\n",
    "simulated_data_with_ids_and_filters = generate_time_series_data_with_ids_and_filters(2008, 2023, 1000)\n",
    "simulated_data_with_ids_and_filters.head()"
   ]
  },
  {
   "cell_type": "code",
   "execution_count": 52,
   "id": "1fb4acd4-0c9a-4302-af2e-d3c2ecaa9265",
   "metadata": {},
   "outputs": [],
   "source": [
    "simulated_data_with_ids_and_filters.to_csv('../data/raw/simulated.csv',index=False)"
   ]
  },
  {
   "cell_type": "code",
   "execution_count": 59,
   "id": "8a3dee10-b2f9-4e5a-9042-373237611e4b",
   "metadata": {},
   "outputs": [],
   "source": [
    "import plotly.express as px\n",
    "\n",
    "def create_aggregated_time_series_plot(df, y_variable):\n",
    "    # Aggregating the data\n",
    "    year_quarter = df['quarter'].str.split('-', expand=True)\n",
    "    \n",
    "    # Convert year and quarter into a Period object\n",
    "    df['quarter'] = pd.PeriodIndex(year=year_quarter[0].astype(int), \n",
    "                                   quarter=year_quarter[1].astype(int), \n",
    "                                   freq='Q')\n",
    "    df['quarter'] = df['quarter'].dt.strftime('%Y-Q%q')\n",
    "    aggregated_df = df.groupby('quarter')[y_variable].mean().reset_index()\n",
    "\n",
    "    # Creating the plot\n",
    "    fig = px.line(aggregated_df, x='quarter', y=y_variable, title=f'Average Time Series of {y_variable}')\n",
    "    fig.update_xaxes(title_text='Quarter')\n",
    "    fig.update_yaxes(title_text=f'Average {y_variable}')\n",
    "    return fig"
   ]
  },
  {
   "cell_type": "code",
   "execution_count": 61,
   "id": "a4fdd78a-f4aa-42e4-9898-81e293bf3ddc",
   "metadata": {},
   "outputs": [
    {
     "data": {
      "application/vnd.plotly.v1+json": {
       "config": {
        "plotlyServerURL": "https://plot.ly"
       },
       "data": [
        {
         "hovertemplate": "quarter=%{x}<br>price=%{y}<extra></extra>",
         "legendgroup": "",
         "line": {
          "color": "#636efa",
          "dash": "solid"
         },
         "marker": {
          "symbol": "circle"
         },
         "mode": "lines",
         "name": "",
         "orientation": "v",
         "showlegend": false,
         "type": "scatter",
         "x": [
          "2008-Q1",
          "2008-Q2",
          "2008-Q3",
          "2008-Q4",
          "2009-Q1",
          "2009-Q2",
          "2009-Q3",
          "2009-Q4",
          "2010-Q1",
          "2010-Q2",
          "2010-Q3",
          "2010-Q4",
          "2011-Q1",
          "2011-Q2",
          "2011-Q3",
          "2011-Q4",
          "2012-Q1",
          "2012-Q2",
          "2012-Q3",
          "2012-Q4",
          "2013-Q1",
          "2013-Q2",
          "2013-Q3",
          "2013-Q4",
          "2014-Q1",
          "2014-Q2",
          "2014-Q3",
          "2014-Q4",
          "2015-Q1",
          "2015-Q2",
          "2015-Q3",
          "2015-Q4",
          "2016-Q1",
          "2016-Q2",
          "2016-Q3",
          "2016-Q4",
          "2017-Q1",
          "2017-Q2",
          "2017-Q3",
          "2017-Q4",
          "2018-Q1",
          "2018-Q2",
          "2018-Q3",
          "2018-Q4",
          "2019-Q1",
          "2019-Q2",
          "2019-Q3",
          "2019-Q4",
          "2020-Q1",
          "2020-Q2",
          "2020-Q3",
          "2020-Q4",
          "2021-Q1",
          "2021-Q2",
          "2021-Q3",
          "2021-Q4",
          "2022-Q1",
          "2022-Q2",
          "2022-Q3",
          "2022-Q4",
          "2023-Q1",
          "2023-Q2",
          "2023-Q3",
          "2023-Q4"
         ],
         "xaxis": "x",
         "y": [
          567.9833000000001,
          559.48755,
          573.66994,
          576.1109200000001,
          567.17016,
          570.26656,
          565.79774,
          582.8661099999999,
          573.0835500000001,
          581.1866600000001,
          576.75982,
          559.8125,
          575.02506,
          585.26712,
          558.69563,
          572.48368,
          566.45619,
          579.9819399999999,
          576.87013,
          584.94186,
          590.26657,
          569.10799,
          588.08277,
          562.74244,
          579.38224,
          577.3716,
          575.76706,
          574.97237,
          579.77836,
          579.7263,
          583.5574300000001,
          577.6533000000001,
          576.5630600000001,
          577.01268,
          573.22366,
          568.96245,
          569.6677,
          564.5746899999999,
          577.3763299999999,
          571.4949,
          572.6616899999999,
          567.3554300000001,
          581.91527,
          584.3544,
          556.82403,
          566.15359,
          569.5147,
          580.14964,
          566.47123,
          585.33789,
          563.5608100000001,
          574.49648,
          565.9463199999999,
          575.32218,
          580.91924,
          573.0247099999999,
          568.08239,
          558.41801,
          575.50825,
          585.75221,
          572.33071,
          580.0822099999999,
          555.62753,
          574.92449
         ],
         "yaxis": "y"
        }
       ],
       "layout": {
        "autosize": true,
        "legend": {
         "tracegroupgap": 0
        },
        "template": {
         "data": {
          "bar": [
           {
            "error_x": {
             "color": "#2a3f5f"
            },
            "error_y": {
             "color": "#2a3f5f"
            },
            "marker": {
             "line": {
              "color": "#E5ECF6",
              "width": 0.5
             },
             "pattern": {
              "fillmode": "overlay",
              "size": 10,
              "solidity": 0.2
             }
            },
            "type": "bar"
           }
          ],
          "barpolar": [
           {
            "marker": {
             "line": {
              "color": "#E5ECF6",
              "width": 0.5
             },
             "pattern": {
              "fillmode": "overlay",
              "size": 10,
              "solidity": 0.2
             }
            },
            "type": "barpolar"
           }
          ],
          "carpet": [
           {
            "aaxis": {
             "endlinecolor": "#2a3f5f",
             "gridcolor": "white",
             "linecolor": "white",
             "minorgridcolor": "white",
             "startlinecolor": "#2a3f5f"
            },
            "baxis": {
             "endlinecolor": "#2a3f5f",
             "gridcolor": "white",
             "linecolor": "white",
             "minorgridcolor": "white",
             "startlinecolor": "#2a3f5f"
            },
            "type": "carpet"
           }
          ],
          "choropleth": [
           {
            "colorbar": {
             "outlinewidth": 0,
             "ticks": ""
            },
            "type": "choropleth"
           }
          ],
          "contour": [
           {
            "colorbar": {
             "outlinewidth": 0,
             "ticks": ""
            },
            "colorscale": [
             [
              0,
              "#0d0887"
             ],
             [
              0.1111111111111111,
              "#46039f"
             ],
             [
              0.2222222222222222,
              "#7201a8"
             ],
             [
              0.3333333333333333,
              "#9c179e"
             ],
             [
              0.4444444444444444,
              "#bd3786"
             ],
             [
              0.5555555555555556,
              "#d8576b"
             ],
             [
              0.6666666666666666,
              "#ed7953"
             ],
             [
              0.7777777777777778,
              "#fb9f3a"
             ],
             [
              0.8888888888888888,
              "#fdca26"
             ],
             [
              1,
              "#f0f921"
             ]
            ],
            "type": "contour"
           }
          ],
          "contourcarpet": [
           {
            "colorbar": {
             "outlinewidth": 0,
             "ticks": ""
            },
            "type": "contourcarpet"
           }
          ],
          "heatmap": [
           {
            "colorbar": {
             "outlinewidth": 0,
             "ticks": ""
            },
            "colorscale": [
             [
              0,
              "#0d0887"
             ],
             [
              0.1111111111111111,
              "#46039f"
             ],
             [
              0.2222222222222222,
              "#7201a8"
             ],
             [
              0.3333333333333333,
              "#9c179e"
             ],
             [
              0.4444444444444444,
              "#bd3786"
             ],
             [
              0.5555555555555556,
              "#d8576b"
             ],
             [
              0.6666666666666666,
              "#ed7953"
             ],
             [
              0.7777777777777778,
              "#fb9f3a"
             ],
             [
              0.8888888888888888,
              "#fdca26"
             ],
             [
              1,
              "#f0f921"
             ]
            ],
            "type": "heatmap"
           }
          ],
          "heatmapgl": [
           {
            "colorbar": {
             "outlinewidth": 0,
             "ticks": ""
            },
            "colorscale": [
             [
              0,
              "#0d0887"
             ],
             [
              0.1111111111111111,
              "#46039f"
             ],
             [
              0.2222222222222222,
              "#7201a8"
             ],
             [
              0.3333333333333333,
              "#9c179e"
             ],
             [
              0.4444444444444444,
              "#bd3786"
             ],
             [
              0.5555555555555556,
              "#d8576b"
             ],
             [
              0.6666666666666666,
              "#ed7953"
             ],
             [
              0.7777777777777778,
              "#fb9f3a"
             ],
             [
              0.8888888888888888,
              "#fdca26"
             ],
             [
              1,
              "#f0f921"
             ]
            ],
            "type": "heatmapgl"
           }
          ],
          "histogram": [
           {
            "marker": {
             "pattern": {
              "fillmode": "overlay",
              "size": 10,
              "solidity": 0.2
             }
            },
            "type": "histogram"
           }
          ],
          "histogram2d": [
           {
            "colorbar": {
             "outlinewidth": 0,
             "ticks": ""
            },
            "colorscale": [
             [
              0,
              "#0d0887"
             ],
             [
              0.1111111111111111,
              "#46039f"
             ],
             [
              0.2222222222222222,
              "#7201a8"
             ],
             [
              0.3333333333333333,
              "#9c179e"
             ],
             [
              0.4444444444444444,
              "#bd3786"
             ],
             [
              0.5555555555555556,
              "#d8576b"
             ],
             [
              0.6666666666666666,
              "#ed7953"
             ],
             [
              0.7777777777777778,
              "#fb9f3a"
             ],
             [
              0.8888888888888888,
              "#fdca26"
             ],
             [
              1,
              "#f0f921"
             ]
            ],
            "type": "histogram2d"
           }
          ],
          "histogram2dcontour": [
           {
            "colorbar": {
             "outlinewidth": 0,
             "ticks": ""
            },
            "colorscale": [
             [
              0,
              "#0d0887"
             ],
             [
              0.1111111111111111,
              "#46039f"
             ],
             [
              0.2222222222222222,
              "#7201a8"
             ],
             [
              0.3333333333333333,
              "#9c179e"
             ],
             [
              0.4444444444444444,
              "#bd3786"
             ],
             [
              0.5555555555555556,
              "#d8576b"
             ],
             [
              0.6666666666666666,
              "#ed7953"
             ],
             [
              0.7777777777777778,
              "#fb9f3a"
             ],
             [
              0.8888888888888888,
              "#fdca26"
             ],
             [
              1,
              "#f0f921"
             ]
            ],
            "type": "histogram2dcontour"
           }
          ],
          "mesh3d": [
           {
            "colorbar": {
             "outlinewidth": 0,
             "ticks": ""
            },
            "type": "mesh3d"
           }
          ],
          "parcoords": [
           {
            "line": {
             "colorbar": {
              "outlinewidth": 0,
              "ticks": ""
             }
            },
            "type": "parcoords"
           }
          ],
          "pie": [
           {
            "automargin": true,
            "type": "pie"
           }
          ],
          "scatter": [
           {
            "fillpattern": {
             "fillmode": "overlay",
             "size": 10,
             "solidity": 0.2
            },
            "type": "scatter"
           }
          ],
          "scatter3d": [
           {
            "line": {
             "colorbar": {
              "outlinewidth": 0,
              "ticks": ""
             }
            },
            "marker": {
             "colorbar": {
              "outlinewidth": 0,
              "ticks": ""
             }
            },
            "type": "scatter3d"
           }
          ],
          "scattercarpet": [
           {
            "marker": {
             "colorbar": {
              "outlinewidth": 0,
              "ticks": ""
             }
            },
            "type": "scattercarpet"
           }
          ],
          "scattergeo": [
           {
            "marker": {
             "colorbar": {
              "outlinewidth": 0,
              "ticks": ""
             }
            },
            "type": "scattergeo"
           }
          ],
          "scattergl": [
           {
            "marker": {
             "colorbar": {
              "outlinewidth": 0,
              "ticks": ""
             }
            },
            "type": "scattergl"
           }
          ],
          "scattermapbox": [
           {
            "marker": {
             "colorbar": {
              "outlinewidth": 0,
              "ticks": ""
             }
            },
            "type": "scattermapbox"
           }
          ],
          "scatterpolar": [
           {
            "marker": {
             "colorbar": {
              "outlinewidth": 0,
              "ticks": ""
             }
            },
            "type": "scatterpolar"
           }
          ],
          "scatterpolargl": [
           {
            "marker": {
             "colorbar": {
              "outlinewidth": 0,
              "ticks": ""
             }
            },
            "type": "scatterpolargl"
           }
          ],
          "scatterternary": [
           {
            "marker": {
             "colorbar": {
              "outlinewidth": 0,
              "ticks": ""
             }
            },
            "type": "scatterternary"
           }
          ],
          "surface": [
           {
            "colorbar": {
             "outlinewidth": 0,
             "ticks": ""
            },
            "colorscale": [
             [
              0,
              "#0d0887"
             ],
             [
              0.1111111111111111,
              "#46039f"
             ],
             [
              0.2222222222222222,
              "#7201a8"
             ],
             [
              0.3333333333333333,
              "#9c179e"
             ],
             [
              0.4444444444444444,
              "#bd3786"
             ],
             [
              0.5555555555555556,
              "#d8576b"
             ],
             [
              0.6666666666666666,
              "#ed7953"
             ],
             [
              0.7777777777777778,
              "#fb9f3a"
             ],
             [
              0.8888888888888888,
              "#fdca26"
             ],
             [
              1,
              "#f0f921"
             ]
            ],
            "type": "surface"
           }
          ],
          "table": [
           {
            "cells": {
             "fill": {
              "color": "#EBF0F8"
             },
             "line": {
              "color": "white"
             }
            },
            "header": {
             "fill": {
              "color": "#C8D4E3"
             },
             "line": {
              "color": "white"
             }
            },
            "type": "table"
           }
          ]
         },
         "layout": {
          "annotationdefaults": {
           "arrowcolor": "#2a3f5f",
           "arrowhead": 0,
           "arrowwidth": 1
          },
          "autotypenumbers": "strict",
          "coloraxis": {
           "colorbar": {
            "outlinewidth": 0,
            "ticks": ""
           }
          },
          "colorscale": {
           "diverging": [
            [
             0,
             "#8e0152"
            ],
            [
             0.1,
             "#c51b7d"
            ],
            [
             0.2,
             "#de77ae"
            ],
            [
             0.3,
             "#f1b6da"
            ],
            [
             0.4,
             "#fde0ef"
            ],
            [
             0.5,
             "#f7f7f7"
            ],
            [
             0.6,
             "#e6f5d0"
            ],
            [
             0.7,
             "#b8e186"
            ],
            [
             0.8,
             "#7fbc41"
            ],
            [
             0.9,
             "#4d9221"
            ],
            [
             1,
             "#276419"
            ]
           ],
           "sequential": [
            [
             0,
             "#0d0887"
            ],
            [
             0.1111111111111111,
             "#46039f"
            ],
            [
             0.2222222222222222,
             "#7201a8"
            ],
            [
             0.3333333333333333,
             "#9c179e"
            ],
            [
             0.4444444444444444,
             "#bd3786"
            ],
            [
             0.5555555555555556,
             "#d8576b"
            ],
            [
             0.6666666666666666,
             "#ed7953"
            ],
            [
             0.7777777777777778,
             "#fb9f3a"
            ],
            [
             0.8888888888888888,
             "#fdca26"
            ],
            [
             1,
             "#f0f921"
            ]
           ],
           "sequentialminus": [
            [
             0,
             "#0d0887"
            ],
            [
             0.1111111111111111,
             "#46039f"
            ],
            [
             0.2222222222222222,
             "#7201a8"
            ],
            [
             0.3333333333333333,
             "#9c179e"
            ],
            [
             0.4444444444444444,
             "#bd3786"
            ],
            [
             0.5555555555555556,
             "#d8576b"
            ],
            [
             0.6666666666666666,
             "#ed7953"
            ],
            [
             0.7777777777777778,
             "#fb9f3a"
            ],
            [
             0.8888888888888888,
             "#fdca26"
            ],
            [
             1,
             "#f0f921"
            ]
           ]
          },
          "colorway": [
           "#636efa",
           "#EF553B",
           "#00cc96",
           "#ab63fa",
           "#FFA15A",
           "#19d3f3",
           "#FF6692",
           "#B6E880",
           "#FF97FF",
           "#FECB52"
          ],
          "font": {
           "color": "#2a3f5f"
          },
          "geo": {
           "bgcolor": "white",
           "lakecolor": "white",
           "landcolor": "#E5ECF6",
           "showlakes": true,
           "showland": true,
           "subunitcolor": "white"
          },
          "hoverlabel": {
           "align": "left"
          },
          "hovermode": "closest",
          "mapbox": {
           "style": "light"
          },
          "paper_bgcolor": "white",
          "plot_bgcolor": "#E5ECF6",
          "polar": {
           "angularaxis": {
            "gridcolor": "white",
            "linecolor": "white",
            "ticks": ""
           },
           "bgcolor": "#E5ECF6",
           "radialaxis": {
            "gridcolor": "white",
            "linecolor": "white",
            "ticks": ""
           }
          },
          "scene": {
           "xaxis": {
            "backgroundcolor": "#E5ECF6",
            "gridcolor": "white",
            "gridwidth": 2,
            "linecolor": "white",
            "showbackground": true,
            "ticks": "",
            "zerolinecolor": "white"
           },
           "yaxis": {
            "backgroundcolor": "#E5ECF6",
            "gridcolor": "white",
            "gridwidth": 2,
            "linecolor": "white",
            "showbackground": true,
            "ticks": "",
            "zerolinecolor": "white"
           },
           "zaxis": {
            "backgroundcolor": "#E5ECF6",
            "gridcolor": "white",
            "gridwidth": 2,
            "linecolor": "white",
            "showbackground": true,
            "ticks": "",
            "zerolinecolor": "white"
           }
          },
          "shapedefaults": {
           "line": {
            "color": "#2a3f5f"
           }
          },
          "ternary": {
           "aaxis": {
            "gridcolor": "white",
            "linecolor": "white",
            "ticks": ""
           },
           "baxis": {
            "gridcolor": "white",
            "linecolor": "white",
            "ticks": ""
           },
           "bgcolor": "#E5ECF6",
           "caxis": {
            "gridcolor": "white",
            "linecolor": "white",
            "ticks": ""
           }
          },
          "title": {
           "x": 0.05
          },
          "xaxis": {
           "automargin": true,
           "gridcolor": "white",
           "linecolor": "white",
           "ticks": "",
           "title": {
            "standoff": 15
           },
           "zerolinecolor": "white",
           "zerolinewidth": 2
          },
          "yaxis": {
           "automargin": true,
           "gridcolor": "white",
           "linecolor": "white",
           "ticks": "",
           "title": {
            "standoff": 15
           },
           "zerolinecolor": "white",
           "zerolinewidth": 2
          }
         }
        },
        "title": {
         "text": "Average Time Series of price"
        },
        "xaxis": {
         "anchor": "y",
         "autorange": true,
         "domain": [
          0,
          1
         ],
         "range": [
          0,
          63
         ],
         "title": {
          "text": "Quarter"
         },
         "type": "category"
        },
        "yaxis": {
         "anchor": "x",
         "autorange": true,
         "domain": [
          0,
          1
         ],
         "range": [
          553.7031388888888,
          592.1909611111112
         ],
         "title": {
          "text": "Average price"
         },
         "type": "linear"
        }
       }
      },
      "image/png": "[encoded data removed]",
      "text/html": [
       "<div>                            <div id=\"ba5cfc0b-6487-4fd6-bcb5-732ee7169dc8\" class=\"plotly-graph-div\" style=\"height:525px; width:100%;\"></div>            <script type=\"text/javascript\">                require([\"plotly\"], function(Plotly) {                    window.PLOTLYENV=window.PLOTLYENV || {};                                    if (document.getElementById(\"ba5cfc0b-6487-4fd6-bcb5-732ee7169dc8\")) {                    Plotly.newPlot(                        \"ba5cfc0b-6487-4fd6-bcb5-732ee7169dc8\",                        [{\"hovertemplate\":\"quarter=%{x}\\u003cbr\\u003eprice=%{y}\\u003cextra\\u003e\\u003c\\u002fextra\\u003e\",\"legendgroup\":\"\",\"line\":{\"color\":\"#636efa\",\"dash\":\"solid\"},\"marker\":{\"symbol\":\"circle\"},\"mode\":\"lines\",\"name\":\"\",\"orientation\":\"v\",\"showlegend\":false,\"x\":[\"2008-Q1\",\"2008-Q2\",\"2008-Q3\",\"2008-Q4\",\"2009-Q1\",\"2009-Q2\",\"2009-Q3\",\"2009-Q4\",\"2010-Q1\",\"2010-Q2\",\"2010-Q3\",\"2010-Q4\",\"2011-Q1\",\"2011-Q2\",\"2011-Q3\",\"2011-Q4\",\"2012-Q1\",\"2012-Q2\",\"2012-Q3\",\"2012-Q4\",\"2013-Q1\",\"2013-Q2\",\"2013-Q3\",\"2013-Q4\",\"2014-Q1\",\"2014-Q2\",\"2014-Q3\",\"2014-Q4\",\"2015-Q1\",\"2015-Q2\",\"2015-Q3\",\"2015-Q4\",\"2016-Q1\",\"2016-Q2\",\"2016-Q3\",\"2016-Q4\",\"2017-Q1\",\"2017-Q2\",\"2017-Q3\",\"2017-Q4\",\"2018-Q1\",\"2018-Q2\",\"2018-Q3\",\"2018-Q4\",\"2019-Q1\",\"2019-Q2\",\"2019-Q3\",\"2019-Q4\",\"2020-Q1\",\"2020-Q2\",\"2020-Q3\",\"2020-Q4\",\"2021-Q1\",\"2021-Q2\",\"2021-Q3\",\"2021-Q4\",\"2022-Q1\",\"2022-Q2\",\"2022-Q3\",\"2022-Q4\",\"2023-Q1\",\"2023-Q2\",\"2023-Q3\",\"2023-Q4\"],\"xaxis\":\"x\",\"y\":[567.9833000000001,559.48755,573.66994,576.1109200000001,567.17016,570.26656,565.79774,582.8661099999999,573.0835500000001,581.1866600000001,576.75982,559.8125,575.02506,585.26712,558.69563,572.48368,566.45619,579.9819399999999,576.87013,584.94186,590.26657,569.10799,588.08277,562.74244,579.38224,577.3716,575.76706,574.97237,579.77836,579.7263,583.5574300000001,577.6533000000001,576.5630600000001,577.01268,573.22366,568.96245,569.6677,564.5746899999999,577.3763299999999,571.4949,572.6616899999999,567.3554300000001,581.91527,584.3544,556.82403,566.15359,569.5147,580.14964,566.47123,585.33789,563.5608100000001,574.49648,565.9463199999999,575.32218,580.91924,573.0247099999999,568.08239,558.41801,575.50825,585.75221,572.33071,580.0822099999999,555.62753,574.92449],\"yaxis\":\"y\",\"type\":\"scatter\"}],                        {\"template\":{\"data\":{\"histogram2dcontour\":[{\"type\":\"histogram2dcontour\",\"colorbar\":{\"outlinewidth\":0,\"ticks\":\"\"},\"colorscale\":[[0.0,\"#0d0887\"],[0.1111111111111111,\"#46039f\"],[0.2222222222222222,\"#7201a8\"],[0.3333333333333333,\"#9c179e\"],[0.4444444444444444,\"#bd3786\"],[0.5555555555555556,\"#d8576b\"],[0.6666666666666666,\"#ed7953\"],[0.7777777777777778,\"#fb9f3a\"],[0.8888888888888888,\"#fdca26\"],[1.0,\"#f0f921\"]]}],\"choropleth\":[{\"type\":\"choropleth\",\"colorbar\":{\"outlinewidth\":0,\"ticks\":\"\"}}],\"histogram2d\":[{\"type\":\"histogram2d\",\"colorbar\":{\"outlinewidth\":0,\"ticks\":\"\"},\"colorscale\":[[0.0,\"#0d0887\"],[0.1111111111111111,\"#46039f\"],[0.2222222222222222,\"#7201a8\"],[0.3333333333333333,\"#9c179e\"],[0.4444444444444444,\"#bd3786\"],[0.5555555555555556,\"#d8576b\"],[0.6666666666666666,\"#ed7953\"],[0.7777777777777778,\"#fb9f3a\"],[0.8888888888888888,\"#fdca26\"],[1.0,\"#f0f921\"]]}],\"heatmap\":[{\"type\":\"heatmap\",\"colorbar\":{\"outlinewidth\":0,\"ticks\":\"\"},\"colorscale\":[[0.0,\"#0d0887\"],[0.1111111111111111,\"#46039f\"],[0.2222222222222222,\"#7201a8\"],[0.3333333333333333,\"#9c179e\"],[0.4444444444444444,\"#bd3786\"],[0.5555555555555556,\"#d8576b\"],[0.6666666666666666,\"#ed7953\"],[0.7777777777777778,\"#fb9f3a\"],[0.8888888888888888,\"#fdca26\"],[1.0,\"#f0f921\"]]}],\"heatmapgl\":[{\"type\":\"heatmapgl\",\"colorbar\":{\"outlinewidth\":0,\"ticks\":\"\"},\"colorscale\":[[0.0,\"#0d0887\"],[0.1111111111111111,\"#46039f\"],[0.2222222222222222,\"#7201a8\"],[0.3333333333333333,\"#9c179e\"],[0.4444444444444444,\"#bd3786\"],[0.5555555555555556,\"#d8576b\"],[0.6666666666666666,\"#ed7953\"],[0.7777777777777778,\"#fb9f3a\"],[0.8888888888888888,\"#fdca26\"],[1.0,\"#f0f921\"]]}],\"contourcarpet\":[{\"type\":\"contourcarpet\",\"colorbar\":{\"outlinewidth\":0,\"ticks\":\"\"}}],\"contour\":[{\"type\":\"contour\",\"colorbar\":{\"outlinewidth\":0,\"ticks\":\"\"},\"colorscale\":[[0.0,\"#0d0887\"],[0.1111111111111111,\"#46039f\"],[0.2222222222222222,\"#7201a8\"],[0.3333333333333333,\"#9c179e\"],[0.4444444444444444,\"#bd3786\"],[0.5555555555555556,\"#d8576b\"],[0.6666666666666666,\"#ed7953\"],[0.7777777777777778,\"#fb9f3a\"],[0.8888888888888888,\"#fdca26\"],[1.0,\"#f0f921\"]]}],\"surface\":[{\"type\":\"surface\",\"colorbar\":{\"outlinewidth\":0,\"ticks\":\"\"},\"colorscale\":[[0.0,\"#0d0887\"],[0.1111111111111111,\"#46039f\"],[0.2222222222222222,\"#7201a8\"],[0.3333333333333333,\"#9c179e\"],[0.4444444444444444,\"#bd3786\"],[0.5555555555555556,\"#d8576b\"],[0.6666666666666666,\"#ed7953\"],[0.7777777777777778,\"#fb9f3a\"],[0.8888888888888888,\"#fdca26\"],[1.0,\"#f0f921\"]]}],\"mesh3d\":[{\"type\":\"mesh3d\",\"colorbar\":{\"outlinewidth\":0,\"ticks\":\"\"}}],\"scatter\":[{\"fillpattern\":{\"fillmode\":\"overlay\",\"size\":10,\"solidity\":0.2},\"type\":\"scatter\"}],\"parcoords\":[{\"type\":\"parcoords\",\"line\":{\"colorbar\":{\"outlinewidth\":0,\"ticks\":\"\"}}}],\"scatterpolargl\":[{\"type\":\"scatterpolargl\",\"marker\":{\"colorbar\":{\"outlinewidth\":0,\"ticks\":\"\"}}}],\"bar\":[{\"error_x\":{\"color\":\"#2a3f5f\"},\"error_y\":{\"color\":\"#2a3f5f\"},\"marker\":{\"line\":{\"color\":\"#E5ECF6\",\"width\":0.5},\"pattern\":{\"fillmode\":\"overlay\",\"size\":10,\"solidity\":0.2}},\"type\":\"bar\"}],\"scattergeo\":[{\"type\":\"scattergeo\",\"marker\":{\"colorbar\":{\"outlinewidth\":0,\"ticks\":\"\"}}}],\"scatterpolar\":[{\"type\":\"scatterpolar\",\"marker\":{\"colorbar\":{\"outlinewidth\":0,\"ticks\":\"\"}}}],\"histogram\":[{\"marker\":{\"pattern\":{\"fillmode\":\"overlay\",\"size\":10,\"solidity\":0.2}},\"type\":\"histogram\"}],\"scattergl\":[{\"type\":\"scattergl\",\"marker\":{\"colorbar\":{\"outlinewidth\":0,\"ticks\":\"\"}}}],\"scatter3d\":[{\"type\":\"scatter3d\",\"line\":{\"colorbar\":{\"outlinewidth\":0,\"ticks\":\"\"}},\"marker\":{\"colorbar\":{\"outlinewidth\":0,\"ticks\":\"\"}}}],\"scattermapbox\":[{\"type\":\"scattermapbox\",\"marker\":{\"colorbar\":{\"outlinewidth\":0,\"ticks\":\"\"}}}],\"scatterternary\":[{\"type\":\"scatterternary\",\"marker\":{\"colorbar\":{\"outlinewidth\":0,\"ticks\":\"\"}}}],\"scattercarpet\":[{\"type\":\"scattercarpet\",\"marker\":{\"colorbar\":{\"outlinewidth\":0,\"ticks\":\"\"}}}],\"carpet\":[{\"aaxis\":{\"endlinecolor\":\"#2a3f5f\",\"gridcolor\":\"white\",\"linecolor\":\"white\",\"minorgridcolor\":\"white\",\"startlinecolor\":\"#2a3f5f\"},\"baxis\":{\"endlinecolor\":\"#2a3f5f\",\"gridcolor\":\"white\",\"linecolor\":\"white\",\"minorgridcolor\":\"white\",\"startlinecolor\":\"#2a3f5f\"},\"type\":\"carpet\"}],\"table\":[{\"cells\":{\"fill\":{\"color\":\"#EBF0F8\"},\"line\":{\"color\":\"white\"}},\"header\":{\"fill\":{\"color\":\"#C8D4E3\"},\"line\":{\"color\":\"white\"}},\"type\":\"table\"}],\"barpolar\":[{\"marker\":{\"line\":{\"color\":\"#E5ECF6\",\"width\":0.5},\"pattern\":{\"fillmode\":\"overlay\",\"size\":10,\"solidity\":0.2}},\"type\":\"barpolar\"}],\"pie\":[{\"automargin\":true,\"type\":\"pie\"}]},\"layout\":{\"autotypenumbers\":\"strict\",\"colorway\":[\"#636efa\",\"#EF553B\",\"#00cc96\",\"#ab63fa\",\"#FFA15A\",\"#19d3f3\",\"#FF6692\",\"#B6E880\",\"#FF97FF\",\"#FECB52\"],\"font\":{\"color\":\"#2a3f5f\"},\"hovermode\":\"closest\",\"hoverlabel\":{\"align\":\"left\"},\"paper_bgcolor\":\"white\",\"plot_bgcolor\":\"#E5ECF6\",\"polar\":{\"bgcolor\":\"#E5ECF6\",\"angularaxis\":{\"gridcolor\":\"white\",\"linecolor\":\"white\",\"ticks\":\"\"},\"radialaxis\":{\"gridcolor\":\"white\",\"linecolor\":\"white\",\"ticks\":\"\"}},\"ternary\":{\"bgcolor\":\"#E5ECF6\",\"aaxis\":{\"gridcolor\":\"white\",\"linecolor\":\"white\",\"ticks\":\"\"},\"baxis\":{\"gridcolor\":\"white\",\"linecolor\":\"white\",\"ticks\":\"\"},\"caxis\":{\"gridcolor\":\"white\",\"linecolor\":\"white\",\"ticks\":\"\"}},\"coloraxis\":{\"colorbar\":{\"outlinewidth\":0,\"ticks\":\"\"}},\"colorscale\":{\"sequential\":[[0.0,\"#0d0887\"],[0.1111111111111111,\"#46039f\"],[0.2222222222222222,\"#7201a8\"],[0.3333333333333333,\"#9c179e\"],[0.4444444444444444,\"#bd3786\"],[0.5555555555555556,\"#d8576b\"],[0.6666666666666666,\"#ed7953\"],[0.7777777777777778,\"#fb9f3a\"],[0.8888888888888888,\"#fdca26\"],[1.0,\"#f0f921\"]],\"sequentialminus\":[[0.0,\"#0d0887\"],[0.1111111111111111,\"#46039f\"],[0.2222222222222222,\"#7201a8\"],[0.3333333333333333,\"#9c179e\"],[0.4444444444444444,\"#bd3786\"],[0.5555555555555556,\"#d8576b\"],[0.6666666666666666,\"#ed7953\"],[0.7777777777777778,\"#fb9f3a\"],[0.8888888888888888,\"#fdca26\"],[1.0,\"#f0f921\"]],\"diverging\":[[0,\"#8e0152\"],[0.1,\"#c51b7d\"],[0.2,\"#de77ae\"],[0.3,\"#f1b6da\"],[0.4,\"#fde0ef\"],[0.5,\"#f7f7f7\"],[0.6,\"#e6f5d0\"],[0.7,\"#b8e186\"],[0.8,\"#7fbc41\"],[0.9,\"#4d9221\"],[1,\"#276419\"]]},\"xaxis\":{\"gridcolor\":\"white\",\"linecolor\":\"white\",\"ticks\":\"\",\"title\":{\"standoff\":15},\"zerolinecolor\":\"white\",\"automargin\":true,\"zerolinewidth\":2},\"yaxis\":{\"gridcolor\":\"white\",\"linecolor\":\"white\",\"ticks\":\"\",\"title\":{\"standoff\":15},\"zerolinecolor\":\"white\",\"automargin\":true,\"zerolinewidth\":2},\"scene\":{\"xaxis\":{\"backgroundcolor\":\"#E5ECF6\",\"gridcolor\":\"white\",\"linecolor\":\"white\",\"showbackground\":true,\"ticks\":\"\",\"zerolinecolor\":\"white\",\"gridwidth\":2},\"yaxis\":{\"backgroundcolor\":\"#E5ECF6\",\"gridcolor\":\"white\",\"linecolor\":\"white\",\"showbackground\":true,\"ticks\":\"\",\"zerolinecolor\":\"white\",\"gridwidth\":2},\"zaxis\":{\"backgroundcolor\":\"#E5ECF6\",\"gridcolor\":\"white\",\"linecolor\":\"white\",\"showbackground\":true,\"ticks\":\"\",\"zerolinecolor\":\"white\",\"gridwidth\":2}},\"shapedefaults\":{\"line\":{\"color\":\"#2a3f5f\"}},\"annotationdefaults\":{\"arrowcolor\":\"#2a3f5f\",\"arrowhead\":0,\"arrowwidth\":1},\"geo\":{\"bgcolor\":\"white\",\"landcolor\":\"#E5ECF6\",\"subunitcolor\":\"white\",\"showland\":true,\"showlakes\":true,\"lakecolor\":\"white\"},\"title\":{\"x\":0.05},\"mapbox\":{\"style\":\"light\"}}},\"xaxis\":{\"anchor\":\"y\",\"domain\":[0.0,1.0],\"title\":{\"text\":\"Quarter\"}},\"yaxis\":{\"anchor\":\"x\",\"domain\":[0.0,1.0],\"title\":{\"text\":\"Average price\"}},\"legend\":{\"tracegroupgap\":0},\"title\":{\"text\":\"Average Time Series of price\"}},                        {\"responsive\": true}                    ).then(function(){\n",
       "                            \n",
       "var gd = document.getElementById('ba5cfc0b-6487-4fd6-bcb5-732ee7169dc8');\n",
       "var x = new MutationObserver(function (mutations, observer) {{\n",
       "        var display = window.getComputedStyle(gd).display;\n",
       "        if (!display || display === 'none') {{\n",
       "            console.log([gd, 'removed!']);\n",
       "            Plotly.purge(gd);\n",
       "            observer.disconnect();\n",
       "        }}\n",
       "}});\n",
       "\n",
       "// Listen for the removal of the full notebook cells\n",
       "var notebookContainer = gd.closest('#notebook-container');\n",
       "if (notebookContainer) {{\n",
       "    x.observe(notebookContainer, {childList: true});\n",
       "}}\n",
       "\n",
       "// Listen for the clearing of the current output cell\n",
       "var outputEl = gd.closest('.output');\n",
       "if (outputEl) {{\n",
       "    x.observe(outputEl, {childList: true});\n",
       "}}\n",
       "\n",
       "                        })                };                });            </script>        </div>"
      ]
     },
     "metadata": {},
     "output_type": "display_data"
    }
   ],
   "source": [
    "create_aggregated_time_series_plot(simulated_data_with_ids_and_filters,'price')"
   ]
  }
 ],
 "metadata": {
  "kernelspec": {
   "display_name": "Python 3 (ipykernel)",
   "language": "python",
   "name": "python3"
  },
  "language_info": {
   "codemirror_mode": {
    "name": "ipython",
    "version": 3
   },
   "file_extension": ".py",
   "mimetype": "text/x-python",
   "name": "python",
   "nbconvert_exporter": "python",
   "pygments_lexer": "ipython3",
   "version": "3.11.6"
  }
 },
 "nbformat": 4,
 "nbformat_minor": 5
}
