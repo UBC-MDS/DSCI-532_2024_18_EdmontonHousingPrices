{
 "cells": [
  {
   "cell_type": "code",
   "execution_count": 48,
   "id": "54cad6e5-4234-4cf5-83a7-5c8fdc0ec396",
   "metadata": {},
   "outputs": [],
   "source": [
    "import numpy as np\n",
    "import pandas as pd\n",
    "import sys\n",
    "sys.path.append('../')\n",
    "from data.real_life_meaning_mapping import real_life_meaning_mapping"
   ]
  },
  {
   "cell_type": "code",
   "execution_count": 51,
   "id": "5a2d1ca7-2981-4f38-82a6-2f367c4c84f0",
   "metadata": {},
   "outputs": [],
   "source": [
    "data = pd.read_csv('../data/raw/listings.csv')"
   ]
  },
  {
   "cell_type": "code",
   "execution_count": 6,
   "id": "a5d0b197-10ba-48e7-8dc2-3c12f117b85a",
   "metadata": {
    "scrolled": true
   },
   "outputs": [
    {
     "name": "stdout",
     "output_type": "stream",
     "text": [
      "id: 13188\n",
      "listing_url: https://www.airbnb.com/rooms/13188\n",
      "scrape_id: 20231213195611\n",
      "last_scraped: 2023-12-14\n",
      "source: city scrape\n",
      "name: Rental unit in Vancouver · ★4.84 · Studio · 2 beds · 1 bath\n",
      "description: nan\n",
      "neighborhood_overview: The uber hip Main street area is a short walk of 6 minutes to the east.  Dozens of dining options.  Great supermarkets, butcher ,cafe, pub, tiki lounge, ethnic restaurants of all sorts.  Sprinkled with antique stores and retro clothing stores.  To the West, just down the hill from the Canada Line station at King Edward is Cambie Village, theatre, flamenco dancing, fine dining, ice cream and more.\n",
      "picture_url: https://a0.muscache.com/pictures/8408188/e1af63e4_original.jpg\n",
      "host_id: 51466\n",
      "host_url: https://www.airbnb.com/users/show/51466\n",
      "host_name: Ian And Emma\n",
      "host_since: 2009-11-04\n",
      "host_location: Vancouver, Canada\n",
      "host_about: We are a family who love to travel in comfort and enjoy the ethos and community spirit of AirBNB. We also host on AirBNB so travelers can enjoy staying with us in Vancouver!\n",
      "Bon Voyage !!\n",
      "host_response_time: within an hour\n",
      "host_response_rate: 100%\n",
      "host_acceptance_rate: 100%\n",
      "host_is_superhost: f\n",
      "host_thumbnail_url: https://a0.muscache.com/im/pictures/user/0b83b6f7-98b7-4a0e-943f-d28ee8ba6841.jpg?aki_policy=profile_small\n",
      "host_picture_url: https://a0.muscache.com/im/pictures/user/0b83b6f7-98b7-4a0e-943f-d28ee8ba6841.jpg?aki_policy=profile_x_medium\n",
      "host_neighbourhood: Riley Park\n",
      "host_listings_count: 1\n",
      "host_total_listings_count: 3\n",
      "host_verifications: ['email', 'phone']\n",
      "host_has_profile_pic: t\n",
      "host_identity_verified: t\n",
      "neighbourhood: Vancouver, British Columbia, Canada\n",
      "neighbourhood_cleansed: Riley Park\n",
      "neighbourhood_group_cleansed: nan\n",
      "latitude: 49.24773\n",
      "longitude: -123.10509\n",
      "property_type: Entire rental unit\n",
      "room_type: Entire home/apt\n",
      "accommodates: 4\n",
      "bathrooms: nan\n",
      "bathrooms_text: 1 bath\n",
      "bedrooms: nan\n",
      "beds: 2.0\n",
      "amenities: []\n",
      "price: $150.00\n",
      "minimum_nights: 2\n",
      "maximum_nights: 180\n",
      "minimum_minimum_nights: 1\n",
      "maximum_minimum_nights: 2\n",
      "minimum_maximum_nights: 1125\n",
      "maximum_maximum_nights: 1125\n",
      "minimum_nights_avg_ntm: 2.0\n",
      "maximum_nights_avg_ntm: 1125.0\n",
      "calendar_updated: nan\n",
      "has_availability: t\n",
      "availability_30: 0\n",
      "availability_60: 0\n",
      "availability_90: 0\n",
      "availability_365: 0\n",
      "calendar_last_scraped: 2023-12-14\n",
      "number_of_reviews: 283\n",
      "number_of_reviews_ltm: 30\n",
      "number_of_reviews_l30d: 1\n",
      "first_review: 2010-02-21\n",
      "last_review: 2023-11-28\n",
      "review_scores_rating: 4.84\n",
      "review_scores_accuracy: 4.88\n",
      "review_scores_cleanliness: 4.84\n",
      "review_scores_checkin: 4.86\n",
      "review_scores_communication: 4.92\n",
      "review_scores_location: 4.88\n",
      "review_scores_value: 4.8\n",
      "license: 23-156488\n",
      "instant_bookable: t\n",
      "calculated_host_listings_count: 1\n",
      "calculated_host_listings_count_entire_homes: 1\n",
      "calculated_host_listings_count_private_rooms: 0\n",
      "calculated_host_listings_count_shared_rooms: 0\n",
      "reviews_per_month: 1.68\n",
      "quarter: 2023-3\n"
     ]
    }
   ],
   "source": [
    "for col, value in data.iloc[0].items():\n",
    "    print(f\"{col}: {value}\")"
   ]
  },
  {
   "cell_type": "code",
   "execution_count": 7,
   "id": "568695ff-93b7-459f-baee-2dd0a10cadec",
   "metadata": {},
   "outputs": [
    {
     "data": {
      "text/plain": [
       "0         0\n",
       "1        30\n",
       "2         0\n",
       "3        10\n",
       "4         0\n",
       "         ..\n",
       "19736    30\n",
       "19737    23\n",
       "19738    18\n",
       "19739    24\n",
       "19740    16\n",
       "Name: availability_30, Length: 19741, dtype: int64"
      ]
     },
     "execution_count": 7,
     "metadata": {},
     "output_type": "execute_result"
    }
   ],
   "source": [
    "data['availability_30']"
   ]
  },
  {
   "cell_type": "code",
   "execution_count": 8,
   "id": "66cb942c-1bb7-4142-9e63-d62b0d6a7ab0",
   "metadata": {},
   "outputs": [
    {
     "data": {
      "text/plain": [
       "0       NaN\n",
       "6691    NaN\n",
       "13046   NaN\n",
       "Name: calendar_updated, dtype: float64"
      ]
     },
     "execution_count": 8,
     "metadata": {},
     "output_type": "execute_result"
    }
   ],
   "source": [
    "data[data['id']==13188]['calendar_updated']"
   ]
  },
  {
   "cell_type": "code",
   "execution_count": 9,
   "id": "7109a065-0d8a-4bf1-a22f-a07a14725c7e",
   "metadata": {},
   "outputs": [],
   "source": [
    "import pandas as pd\n",
    "import numpy as np\n",
    "from datetime import datetime"
   ]
  },
  {
   "cell_type": "code",
   "execution_count": 10,
   "id": "1bc3ea76-8c17-4f11-b014-3ab73fc76d35",
   "metadata": {},
   "outputs": [
    {
     "data": {
      "text/plain": [
       "array(['Riley Park', 'Downtown', 'Kensington-Cedar Cottage',\n",
       "       'Hastings-Sunrise', 'Grandview-Woodland', 'Mount Pleasant',\n",
       "       'West End', 'Renfrew-Collingwood', 'Kitsilano',\n",
       "       'Downtown Eastside', 'Arbutus Ridge', 'Killarney', 'South Cambie',\n",
       "       'Fairview', 'Dunbar Southlands', 'Strathcona', 'Shaughnessy',\n",
       "       'West Point Grey', 'Kerrisdale', 'Sunset', 'Victoria-Fraserview',\n",
       "       'Marpole', 'Oakridge'], dtype=object)"
      ]
     },
     "execution_count": 10,
     "metadata": {},
     "output_type": "execute_result"
    }
   ],
   "source": [
    "data['neighbourhood_cleansed'].unique()"
   ]
  },
  {
   "cell_type": "code",
   "execution_count": 11,
   "id": "22d98bcc-43ee-4b05-ba0b-20993c7cbb7f",
   "metadata": {},
   "outputs": [],
   "source": [
    "neighbourhoods_ = data['neighbourhood_cleansed'].unique()"
   ]
  },
  {
   "cell_type": "code",
   "execution_count": 39,
   "id": "31cb2be6-2d5d-4ede-b3d9-b6847f0a53a9",
   "metadata": {},
   "outputs": [
    {
     "data": {
      "text/html": [
       "<div>\n",
       "<style scoped>\n",
       "    .dataframe tbody tr th:only-of-type {\n",
       "        vertical-align: middle;\n",
       "    }\n",
       "\n",
       "    .dataframe tbody tr th {\n",
       "        vertical-align: top;\n",
       "    }\n",
       "\n",
       "    .dataframe thead th {\n",
       "        text-align: right;\n",
       "    }\n",
       "</style>\n",
       "<table border=\"1\" class=\"dataframe\">\n",
       "  <thead>\n",
       "    <tr style=\"text-align: right;\">\n",
       "      <th></th>\n",
       "      <th>quarter</th>\n",
       "      <th>id</th>\n",
       "      <th>price</th>\n",
       "      <th>number_of_reviews</th>\n",
       "      <th>availability_30</th>\n",
       "      <th>availability_60</th>\n",
       "      <th>availability_90</th>\n",
       "      <th>availability_365</th>\n",
       "      <th>review_scores_rating</th>\n",
       "      <th>number_of_reviews_ltm</th>\n",
       "      <th>...</th>\n",
       "      <th>reviews_per_month</th>\n",
       "      <th>host_listings_count</th>\n",
       "      <th>host_total_listings_count</th>\n",
       "      <th>first_review</th>\n",
       "      <th>last_review</th>\n",
       "      <th>neighbourhood</th>\n",
       "      <th>room_type</th>\n",
       "      <th>number_of_guests</th>\n",
       "      <th>number_of_beds</th>\n",
       "      <th>number_of_bathrooms</th>\n",
       "    </tr>\n",
       "  </thead>\n",
       "  <tbody>\n",
       "    <tr>\n",
       "      <th>0</th>\n",
       "      <td>2010-1</td>\n",
       "      <td>1</td>\n",
       "      <td>905.17</td>\n",
       "      <td>72</td>\n",
       "      <td>27</td>\n",
       "      <td>56</td>\n",
       "      <td>80</td>\n",
       "      <td>355</td>\n",
       "      <td>4.59</td>\n",
       "      <td>69</td>\n",
       "      <td>...</td>\n",
       "      <td>3.06</td>\n",
       "      <td>4</td>\n",
       "      <td>4</td>\n",
       "      <td>2013-12-24</td>\n",
       "      <td>2015-06-13</td>\n",
       "      <td>Kitsilano</td>\n",
       "      <td>Entire home/apt</td>\n",
       "      <td>5</td>\n",
       "      <td>7</td>\n",
       "      <td>3.0</td>\n",
       "    </tr>\n",
       "    <tr>\n",
       "      <th>1</th>\n",
       "      <td>2010-2</td>\n",
       "      <td>1</td>\n",
       "      <td>549.62</td>\n",
       "      <td>91</td>\n",
       "      <td>20</td>\n",
       "      <td>36</td>\n",
       "      <td>46</td>\n",
       "      <td>321</td>\n",
       "      <td>3.69</td>\n",
       "      <td>9</td>\n",
       "      <td>...</td>\n",
       "      <td>9.96</td>\n",
       "      <td>5</td>\n",
       "      <td>7</td>\n",
       "      <td>2015-04-20</td>\n",
       "      <td>2017-03-02</td>\n",
       "      <td>Victoria-Fraserview</td>\n",
       "      <td>Entire home/apt</td>\n",
       "      <td>4</td>\n",
       "      <td>8</td>\n",
       "      <td>4.0</td>\n",
       "    </tr>\n",
       "    <tr>\n",
       "      <th>2</th>\n",
       "      <td>2010-3</td>\n",
       "      <td>1</td>\n",
       "      <td>582.62</td>\n",
       "      <td>118</td>\n",
       "      <td>4</td>\n",
       "      <td>18</td>\n",
       "      <td>30</td>\n",
       "      <td>305</td>\n",
       "      <td>4.33</td>\n",
       "      <td>13</td>\n",
       "      <td>...</td>\n",
       "      <td>9.48</td>\n",
       "      <td>7</td>\n",
       "      <td>2</td>\n",
       "      <td>2016-11-11</td>\n",
       "      <td>2018-07-19</td>\n",
       "      <td>Grandview-Woodland</td>\n",
       "      <td>Entire home/apt</td>\n",
       "      <td>2</td>\n",
       "      <td>1</td>\n",
       "      <td>4.5</td>\n",
       "    </tr>\n",
       "    <tr>\n",
       "      <th>3</th>\n",
       "      <td>2010-4</td>\n",
       "      <td>1</td>\n",
       "      <td>488.18</td>\n",
       "      <td>88</td>\n",
       "      <td>12</td>\n",
       "      <td>38</td>\n",
       "      <td>49</td>\n",
       "      <td>324</td>\n",
       "      <td>4.90</td>\n",
       "      <td>17</td>\n",
       "      <td>...</td>\n",
       "      <td>4.40</td>\n",
       "      <td>1</td>\n",
       "      <td>6</td>\n",
       "      <td>2013-08-25</td>\n",
       "      <td>2014-07-10</td>\n",
       "      <td>West End</td>\n",
       "      <td>Private room</td>\n",
       "      <td>1</td>\n",
       "      <td>7</td>\n",
       "      <td>4.5</td>\n",
       "    </tr>\n",
       "    <tr>\n",
       "      <th>4</th>\n",
       "      <td>2011-1</td>\n",
       "      <td>1</td>\n",
       "      <td>368.83</td>\n",
       "      <td>123</td>\n",
       "      <td>6</td>\n",
       "      <td>32</td>\n",
       "      <td>56</td>\n",
       "      <td>331</td>\n",
       "      <td>4.22</td>\n",
       "      <td>98</td>\n",
       "      <td>...</td>\n",
       "      <td>2.60</td>\n",
       "      <td>2</td>\n",
       "      <td>6</td>\n",
       "      <td>2016-01-09</td>\n",
       "      <td>2016-12-25</td>\n",
       "      <td>West End</td>\n",
       "      <td>Entire home/apt</td>\n",
       "      <td>2</td>\n",
       "      <td>1</td>\n",
       "      <td>3.0</td>\n",
       "    </tr>\n",
       "  </tbody>\n",
       "</table>\n",
       "<p>5 rows × 25 columns</p>\n",
       "</div>"
      ],
      "text/plain": [
       "  quarter  id   price  number_of_reviews  availability_30  availability_60  \\\n",
       "0  2010-1   1  905.17                 72               27               56   \n",
       "1  2010-2   1  549.62                 91               20               36   \n",
       "2  2010-3   1  582.62                118                4               18   \n",
       "3  2010-4   1  488.18                 88               12               38   \n",
       "4  2011-1   1  368.83                123                6               32   \n",
       "\n",
       "   availability_90  availability_365  review_scores_rating  \\\n",
       "0               80               355                  4.59   \n",
       "1               46               321                  3.69   \n",
       "2               30               305                  4.33   \n",
       "3               49               324                  4.90   \n",
       "4               56               331                  4.22   \n",
       "\n",
       "   number_of_reviews_ltm  ...  reviews_per_month  host_listings_count  \\\n",
       "0                     69  ...               3.06                    4   \n",
       "1                      9  ...               9.96                    5   \n",
       "2                     13  ...               9.48                    7   \n",
       "3                     17  ...               4.40                    1   \n",
       "4                     98  ...               2.60                    2   \n",
       "\n",
       "   host_total_listings_count  first_review  last_review        neighbourhood  \\\n",
       "0                          4    2013-12-24   2015-06-13            Kitsilano   \n",
       "1                          7    2015-04-20   2017-03-02  Victoria-Fraserview   \n",
       "2                          2    2016-11-11   2018-07-19   Grandview-Woodland   \n",
       "3                          6    2013-08-25   2014-07-10             West End   \n",
       "4                          6    2016-01-09   2016-12-25             West End   \n",
       "\n",
       "         room_type  number_of_guests number_of_beds number_of_bathrooms  \n",
       "0  Entire home/apt                 5              7                 3.0  \n",
       "1  Entire home/apt                 4              8                 4.0  \n",
       "2  Entire home/apt                 2              1                 4.5  \n",
       "3     Private room                 1              7                 4.5  \n",
       "4  Entire home/apt                 2              1                 3.0  \n",
       "\n",
       "[5 rows x 25 columns]"
      ]
     },
     "execution_count": 39,
     "metadata": {},
     "output_type": "execute_result"
    }
   ],
   "source": [
    "def generate_time_series_data_with_ids_and_filters(start_year, end_year, listings_count):\n",
    "    quarters = pd.date_range(start=f'{start_year}-01-01', end=f'{end_year}-12-31', freq='Q').to_period('Q')\n",
    "    listing_ids = np.arange(1, listings_count + 1)\n",
    "\n",
    "    # Creating a dataframe for each listing across all quarters\n",
    "    data_list = []\n",
    "    for listing_id in listing_ids:\n",
    "        data = pd.DataFrame({\n",
    "            'quarter': quarters,\n",
    "            'id': listing_id\n",
    "        })\n",
    "        \n",
    "        # Base trend factor with random noise\n",
    "        base_trend = np.linspace(1, 1.3, len(data))\n",
    "        noise = np.random.rand(len(data)) * 1  # Random noise\n",
    "        trend_factor = base_trend + noise\n",
    "\n",
    "        # Applying trend with noise to 'price' and 'number_of_reviews'\n",
    "        data['price'] = np.round(150 + (np.random.rand(len(data)) * 850 * trend_factor), 2)\n",
    "        data['number_of_reviews'] = np.random.randint(0, 50, size=len(data)) + (50 * trend_factor).astype(int)\n",
    "\n",
    "\n",
    "        # Adding other variables\n",
    "        data['availability_30'] = np.random.randint(0, 31, size=len(data))\n",
    "        data['availability_60'] = data['availability_30'] + np.random.randint(0, 31, size=len(data))\n",
    "        data['availability_90'] = data['availability_60'] + np.random.randint(0, 31, size=len(data))\n",
    "        data['availability_365'] = data['availability_90'] + np.random.randint(275, 276, size=len(data))\n",
    "        data['review_scores_rating'] = np.round(np.random.uniform(3.5, 5.0, size=len(data)), 2)\n",
    "        data['number_of_reviews_ltm'] = np.random.randint(0, 100, size=len(data))\n",
    "        data['number_of_reviews_l30d'] = np.random.randint(0, 10, size=len(data))\n",
    "        data['host_response_rate'] = np.round(np.random.uniform(0.0, 1.0, size=len(data)), 2)\n",
    "        data['host_acceptance_rate'] = np.round(np.random.uniform(0.0, 1.0, size=len(data)), 2)\n",
    "        data['minimum_nights'] = np.random.randint(1, 8, size=len(data))\n",
    "        data['maximum_nights'] = np.random.randint(30, 365, size=len(data))\n",
    "        data['reviews_per_month'] = np.round(np.random.uniform(0, 10, size=len(data)), 2)\n",
    "        data['host_listings_count'] = np.random.randint(1, 10, size=len(data))\n",
    "        data['host_total_listings_count'] = np.random.randint(1, 10, size=len(data))\n",
    "        data['first_review'] = pd.to_datetime('2010-01-01') + pd.to_timedelta(np.random.randint(0, 365*10, size=len(data)), unit='D')\n",
    "        data['last_review'] = data['first_review'] + pd.to_timedelta(np.random.randint(0, 365*2, size=len(data)), unit='D')\n",
    "\n",
    "        # Adding filtering variables\n",
    "        neighbourhoods = neighbourhoods_\n",
    "        data['neighbourhood'] = np.random.choice(neighbourhoods, size=len(data))\n",
    "\n",
    "        room_types = ['Entire home/apt', 'Private room', 'Shared room', 'Hotel room']\n",
    "        data['room_type'] = np.random.choice(room_types, size=len(data))\n",
    "\n",
    "        data['number_of_guests'] = np.random.randint(1, 9, size=len(data))\n",
    "        data['number_of_beds'] = np.random.randint(1, 9, size=len(data))\n",
    "        data['number_of_bathrooms'] = np.random.choice([0.5,1,1.5,2,2.5,3,3.5,4,4.5,5,5.5], size=len(data))\n",
    "\n",
    "        data_list.append(data)\n",
    "\n",
    "    # Concatenating all listings data\n",
    "    full_data = pd.concat(data_list, ignore_index=True)\n",
    "    full_data['quarter'] = full_data['quarter'].dt.strftime('%Y-%q')\n",
    "\n",
    "    return full_data\n",
    "\n",
    "# Generating data with IDs and filtering variables for 1000 listings from 2008 to 2023\n",
    "simulated_data_with_ids_and_filters = generate_time_series_data_with_ids_and_filters(2010, 2023, 1000)\n",
    "simulated_data_with_ids_and_filters.head()"
   ]
  },
  {
   "cell_type": "code",
   "execution_count": 56,
   "id": "8a3dee10-b2f9-4e5a-9042-373237611e4b",
   "metadata": {},
   "outputs": [],
   "source": [
    "import plotly.express as px\n",
    "import plotly.graph_objects as go\n",
    "\n",
    "# Function to create a time-series plot\n",
    "def create_aggregated_time_series_plot(df, y_variable=None):\n",
    "    if y_variable is None:\n",
    "        y_variable = 'Daily Price'\n",
    "    y_name = y_variable\n",
    "    y_variable = real_life_meaning_mapping[y_name]['column_name']\n",
    "    df = df.copy()\n",
    "    year_quarter = df['quarter'].str.split('-', expand=True)\n",
    "    \n",
    "    # Convert year and quarter into a Period object\n",
    "    df['quarter'] = pd.PeriodIndex(year=year_quarter[0].astype(int), \n",
    "                                   quarter=year_quarter[1].astype(int), \n",
    "                                   freq='Q')\n",
    "    df['quarter'] = df['quarter'].dt.strftime('%Y-Q%q')\n",
    "    # Aggregating the data\n",
    "    aggregated_df = df.groupby('quarter')[y_variable].mean().reset_index()\n",
    "    median_aggregated_df = df.groupby('quarter')[y_variable].median().reset_index()\n",
    "\n",
    "    # Creating an empty figure and adding both mean and median as separate traces\n",
    "    fig = go.Figure()\n",
    "\n",
    "    # Add Mean trace\n",
    "    fig.add_trace(go.Scatter(x=aggregated_df['quarter'], y=aggregated_df[y_variable],\n",
    "                             mode='lines', name='Mean'))\n",
    "\n",
    "    # Adding median trend line\n",
    "    fig.add_trace(go.Scatter(x=median_aggregated_df['quarter'], y=median_aggregated_df[y_variable],\n",
    "                             mode='lines', name='Median', line=dict(dash='dash')))\n",
    "    # Center the title\n",
    "    fig.update_layout(\n",
    "        title={\n",
    "            'text': f'Trend of the Metric {y_name}',\n",
    "            'y':0.9,\n",
    "            'x':0.5,\n",
    "            'xanchor': 'center',\n",
    "            'yanchor': 'top'\n",
    "        }\n",
    "    )\n",
    "    fig.update_xaxes(title_text='Quarter', tickangle=-45)\n",
    "    fig.update_yaxes(title_text=f'Average Metric Value')\n",
    "    return fig"
   ]
  },
  {
   "cell_type": "code",
   "execution_count": 57,
   "id": "a4fdd78a-f4aa-42e4-9898-81e293bf3ddc",
   "metadata": {},
   "outputs": [
    {
     "data": {
      "application/vnd.plotly.v1+json": {
       "config": {
        "plotlyServerURL": "https://plot.ly"
       },
       "data": [
        {
         "mode": "lines",
         "name": "Mean",
         "type": "scatter",
         "x": [
          "2010-Q1",
          "2010-Q2",
          "2010-Q3",
          "2010-Q4",
          "2011-Q1",
          "2011-Q2",
          "2011-Q3",
          "2011-Q4",
          "2012-Q1",
          "2012-Q2",
          "2012-Q3",
          "2012-Q4",
          "2013-Q1",
          "2013-Q2",
          "2013-Q3",
          "2013-Q4",
          "2014-Q1",
          "2014-Q2",
          "2014-Q3",
          "2014-Q4",
          "2015-Q1",
          "2015-Q2",
          "2015-Q3",
          "2015-Q4",
          "2016-Q1",
          "2016-Q2",
          "2016-Q3",
          "2016-Q4",
          "2017-Q1",
          "2017-Q2",
          "2017-Q3",
          "2017-Q4",
          "2018-Q1",
          "2018-Q2",
          "2018-Q3",
          "2018-Q4",
          "2019-Q1",
          "2019-Q2",
          "2019-Q3",
          "2019-Q4",
          "2020-Q1",
          "2020-Q2",
          "2020-Q3",
          "2020-Q4",
          "2021-Q1",
          "2021-Q2",
          "2021-Q3",
          "2021-Q4",
          "2022-Q1",
          "2022-Q2",
          "2022-Q3",
          "2022-Q4",
          "2023-Q1",
          "2023-Q2",
          "2023-Q3",
          "2023-Q4"
         ],
         "y": [
          803.69442,
          805.3581800000001,
          798.55939,
          781.01447,
          790.64747,
          781.68548,
          804.70871,
          768.05785,
          808.48163,
          808.29825,
          816.63493,
          822.41562,
          784.27589,
          822.40006,
          813.1701400000001,
          815.31501,
          795.66786,
          817.8968299999999,
          846.9469,
          837.0975999999999,
          854.08091,
          811.33501,
          810.4747,
          848.31238,
          864.57172,
          853.0563000000001,
          831.86286,
          847.5798199999999,
          833.56975,
          870.00972,
          868.20722,
          872.99075,
          860.09802,
          854.23039,
          892.0034899999999,
          872.87224,
          841.81079,
          865.12612,
          864.70078,
          849.42755,
          871.6713599999999,
          911.31824,
          873.0046,
          883.8803800000001,
          898.40662,
          903.7583199999999,
          920.32051,
          910.2704,
          888.94137,
          894.10222,
          899.63114,
          929.7287,
          931.59886,
          910.88171,
          924.99484,
          930.98049
         ]
        },
        {
         "line": {
          "dash": "dash"
         },
         "mode": "lines",
         "name": "Median",
         "type": "scatter",
         "x": [
          "2010-Q1",
          "2010-Q2",
          "2010-Q3",
          "2010-Q4",
          "2011-Q1",
          "2011-Q2",
          "2011-Q3",
          "2011-Q4",
          "2012-Q1",
          "2012-Q2",
          "2012-Q3",
          "2012-Q4",
          "2013-Q1",
          "2013-Q2",
          "2013-Q3",
          "2013-Q4",
          "2014-Q1",
          "2014-Q2",
          "2014-Q3",
          "2014-Q4",
          "2015-Q1",
          "2015-Q2",
          "2015-Q3",
          "2015-Q4",
          "2016-Q1",
          "2016-Q2",
          "2016-Q3",
          "2016-Q4",
          "2017-Q1",
          "2017-Q2",
          "2017-Q3",
          "2017-Q4",
          "2018-Q1",
          "2018-Q2",
          "2018-Q3",
          "2018-Q4",
          "2019-Q1",
          "2019-Q2",
          "2019-Q3",
          "2019-Q4",
          "2020-Q1",
          "2020-Q2",
          "2020-Q3",
          "2020-Q4",
          "2021-Q1",
          "2021-Q2",
          "2021-Q3",
          "2021-Q4",
          "2022-Q1",
          "2022-Q2",
          "2022-Q3",
          "2022-Q4",
          "2023-Q1",
          "2023-Q2",
          "2023-Q3",
          "2023-Q4"
         ],
         "y": [
          799.9849999999999,
          784.0799999999999,
          781.585,
          752.11,
          787.005,
          774.89,
          790.44,
          736.52,
          782.625,
          786.315,
          792.575,
          799.54,
          756.315,
          791.005,
          805.6099999999999,
          778.335,
          747.14,
          797.885,
          826.975,
          791,
          822.415,
          790.535,
          798.04,
          827.755,
          855.835,
          826.5699999999999,
          779.595,
          823.5350000000001,
          808.3399999999999,
          873.0450000000001,
          856.2950000000001,
          861.925,
          828.8199999999999,
          837.48,
          897.47,
          848.98,
          812.88,
          829.21,
          836.84,
          828.35,
          854.25,
          911.495,
          852.125,
          852.41,
          876.885,
          896.56,
          913.355,
          887.355,
          886.1600000000001,
          873.75,
          886.12,
          910.935,
          921.75,
          892.95,
          893.645,
          925.95
         ]
        }
       ],
       "layout": {
        "autosize": true,
        "template": {
         "data": {
          "bar": [
           {
            "error_x": {
             "color": "#2a3f5f"
            },
            "error_y": {
             "color": "#2a3f5f"
            },
            "marker": {
             "line": {
              "color": "#E5ECF6",
              "width": 0.5
             },
             "pattern": {
              "fillmode": "overlay",
              "size": 10,
              "solidity": 0.2
             }
            },
            "type": "bar"
           }
          ],
          "barpolar": [
           {
            "marker": {
             "line": {
              "color": "#E5ECF6",
              "width": 0.5
             },
             "pattern": {
              "fillmode": "overlay",
              "size": 10,
              "solidity": 0.2
             }
            },
            "type": "barpolar"
           }
          ],
          "carpet": [
           {
            "aaxis": {
             "endlinecolor": "#2a3f5f",
             "gridcolor": "white",
             "linecolor": "white",
             "minorgridcolor": "white",
             "startlinecolor": "#2a3f5f"
            },
            "baxis": {
             "endlinecolor": "#2a3f5f",
             "gridcolor": "white",
             "linecolor": "white",
             "minorgridcolor": "white",
             "startlinecolor": "#2a3f5f"
            },
            "type": "carpet"
           }
          ],
          "choropleth": [
           {
            "colorbar": {
             "outlinewidth": 0,
             "ticks": ""
            },
            "type": "choropleth"
           }
          ],
          "contour": [
           {
            "colorbar": {
             "outlinewidth": 0,
             "ticks": ""
            },
            "colorscale": [
             [
              0,
              "#0d0887"
             ],
             [
              0.1111111111111111,
              "#46039f"
             ],
             [
              0.2222222222222222,
              "#7201a8"
             ],
             [
              0.3333333333333333,
              "#9c179e"
             ],
             [
              0.4444444444444444,
              "#bd3786"
             ],
             [
              0.5555555555555556,
              "#d8576b"
             ],
             [
              0.6666666666666666,
              "#ed7953"
             ],
             [
              0.7777777777777778,
              "#fb9f3a"
             ],
             [
              0.8888888888888888,
              "#fdca26"
             ],
             [
              1,
              "#f0f921"
             ]
            ],
            "type": "contour"
           }
          ],
          "contourcarpet": [
           {
            "colorbar": {
             "outlinewidth": 0,
             "ticks": ""
            },
            "type": "contourcarpet"
           }
          ],
          "heatmap": [
           {
            "colorbar": {
             "outlinewidth": 0,
             "ticks": ""
            },
            "colorscale": [
             [
              0,
              "#0d0887"
             ],
             [
              0.1111111111111111,
              "#46039f"
             ],
             [
              0.2222222222222222,
              "#7201a8"
             ],
             [
              0.3333333333333333,
              "#9c179e"
             ],
             [
              0.4444444444444444,
              "#bd3786"
             ],
             [
              0.5555555555555556,
              "#d8576b"
             ],
             [
              0.6666666666666666,
              "#ed7953"
             ],
             [
              0.7777777777777778,
              "#fb9f3a"
             ],
             [
              0.8888888888888888,
              "#fdca26"
             ],
             [
              1,
              "#f0f921"
             ]
            ],
            "type": "heatmap"
           }
          ],
          "heatmapgl": [
           {
            "colorbar": {
             "outlinewidth": 0,
             "ticks": ""
            },
            "colorscale": [
             [
              0,
              "#0d0887"
             ],
             [
              0.1111111111111111,
              "#46039f"
             ],
             [
              0.2222222222222222,
              "#7201a8"
             ],
             [
              0.3333333333333333,
              "#9c179e"
             ],
             [
              0.4444444444444444,
              "#bd3786"
             ],
             [
              0.5555555555555556,
              "#d8576b"
             ],
             [
              0.6666666666666666,
              "#ed7953"
             ],
             [
              0.7777777777777778,
              "#fb9f3a"
             ],
             [
              0.8888888888888888,
              "#fdca26"
             ],
             [
              1,
              "#f0f921"
             ]
            ],
            "type": "heatmapgl"
           }
          ],
          "histogram": [
           {
            "marker": {
             "pattern": {
              "fillmode": "overlay",
              "size": 10,
              "solidity": 0.2
             }
            },
            "type": "histogram"
           }
          ],
          "histogram2d": [
           {
            "colorbar": {
             "outlinewidth": 0,
             "ticks": ""
            },
            "colorscale": [
             [
              0,
              "#0d0887"
             ],
             [
              0.1111111111111111,
              "#46039f"
             ],
             [
              0.2222222222222222,
              "#7201a8"
             ],
             [
              0.3333333333333333,
              "#9c179e"
             ],
             [
              0.4444444444444444,
              "#bd3786"
             ],
             [
              0.5555555555555556,
              "#d8576b"
             ],
             [
              0.6666666666666666,
              "#ed7953"
             ],
             [
              0.7777777777777778,
              "#fb9f3a"
             ],
             [
              0.8888888888888888,
              "#fdca26"
             ],
             [
              1,
              "#f0f921"
             ]
            ],
            "type": "histogram2d"
           }
          ],
          "histogram2dcontour": [
           {
            "colorbar": {
             "outlinewidth": 0,
             "ticks": ""
            },
            "colorscale": [
             [
              0,
              "#0d0887"
             ],
             [
              0.1111111111111111,
              "#46039f"
             ],
             [
              0.2222222222222222,
              "#7201a8"
             ],
             [
              0.3333333333333333,
              "#9c179e"
             ],
             [
              0.4444444444444444,
              "#bd3786"
             ],
             [
              0.5555555555555556,
              "#d8576b"
             ],
             [
              0.6666666666666666,
              "#ed7953"
             ],
             [
              0.7777777777777778,
              "#fb9f3a"
             ],
             [
              0.8888888888888888,
              "#fdca26"
             ],
             [
              1,
              "#f0f921"
             ]
            ],
            "type": "histogram2dcontour"
           }
          ],
          "mesh3d": [
           {
            "colorbar": {
             "outlinewidth": 0,
             "ticks": ""
            },
            "type": "mesh3d"
           }
          ],
          "parcoords": [
           {
            "line": {
             "colorbar": {
              "outlinewidth": 0,
              "ticks": ""
             }
            },
            "type": "parcoords"
           }
          ],
          "pie": [
           {
            "automargin": true,
            "type": "pie"
           }
          ],
          "scatter": [
           {
            "fillpattern": {
             "fillmode": "overlay",
             "size": 10,
             "solidity": 0.2
            },
            "type": "scatter"
           }
          ],
          "scatter3d": [
           {
            "line": {
             "colorbar": {
              "outlinewidth": 0,
              "ticks": ""
             }
            },
            "marker": {
             "colorbar": {
              "outlinewidth": 0,
              "ticks": ""
             }
            },
            "type": "scatter3d"
           }
          ],
          "scattercarpet": [
           {
            "marker": {
             "colorbar": {
              "outlinewidth": 0,
              "ticks": ""
             }
            },
            "type": "scattercarpet"
           }
          ],
          "scattergeo": [
           {
            "marker": {
             "colorbar": {
              "outlinewidth": 0,
              "ticks": ""
             }
            },
            "type": "scattergeo"
           }
          ],
          "scattergl": [
           {
            "marker": {
             "colorbar": {
              "outlinewidth": 0,
              "ticks": ""
             }
            },
            "type": "scattergl"
           }
          ],
          "scattermapbox": [
           {
            "marker": {
             "colorbar": {
              "outlinewidth": 0,
              "ticks": ""
             }
            },
            "type": "scattermapbox"
           }
          ],
          "scatterpolar": [
           {
            "marker": {
             "colorbar": {
              "outlinewidth": 0,
              "ticks": ""
             }
            },
            "type": "scatterpolar"
           }
          ],
          "scatterpolargl": [
           {
            "marker": {
             "colorbar": {
              "outlinewidth": 0,
              "ticks": ""
             }
            },
            "type": "scatterpolargl"
           }
          ],
          "scatterternary": [
           {
            "marker": {
             "colorbar": {
              "outlinewidth": 0,
              "ticks": ""
             }
            },
            "type": "scatterternary"
           }
          ],
          "surface": [
           {
            "colorbar": {
             "outlinewidth": 0,
             "ticks": ""
            },
            "colorscale": [
             [
              0,
              "#0d0887"
             ],
             [
              0.1111111111111111,
              "#46039f"
             ],
             [
              0.2222222222222222,
              "#7201a8"
             ],
             [
              0.3333333333333333,
              "#9c179e"
             ],
             [
              0.4444444444444444,
              "#bd3786"
             ],
             [
              0.5555555555555556,
              "#d8576b"
             ],
             [
              0.6666666666666666,
              "#ed7953"
             ],
             [
              0.7777777777777778,
              "#fb9f3a"
             ],
             [
              0.8888888888888888,
              "#fdca26"
             ],
             [
              1,
              "#f0f921"
             ]
            ],
            "type": "surface"
           }
          ],
          "table": [
           {
            "cells": {
             "fill": {
              "color": "#EBF0F8"
             },
             "line": {
              "color": "white"
             }
            },
            "header": {
             "fill": {
              "color": "#C8D4E3"
             },
             "line": {
              "color": "white"
             }
            },
            "type": "table"
           }
          ]
         },
         "layout": {
          "annotationdefaults": {
           "arrowcolor": "#2a3f5f",
           "arrowhead": 0,
           "arrowwidth": 1
          },
          "autotypenumbers": "strict",
          "coloraxis": {
           "colorbar": {
            "outlinewidth": 0,
            "ticks": ""
           }
          },
          "colorscale": {
           "diverging": [
            [
             0,
             "#8e0152"
            ],
            [
             0.1,
             "#c51b7d"
            ],
            [
             0.2,
             "#de77ae"
            ],
            [
             0.3,
             "#f1b6da"
            ],
            [
             0.4,
             "#fde0ef"
            ],
            [
             0.5,
             "#f7f7f7"
            ],
            [
             0.6,
             "#e6f5d0"
            ],
            [
             0.7,
             "#b8e186"
            ],
            [
             0.8,
             "#7fbc41"
            ],
            [
             0.9,
             "#4d9221"
            ],
            [
             1,
             "#276419"
            ]
           ],
           "sequential": [
            [
             0,
             "#0d0887"
            ],
            [
             0.1111111111111111,
             "#46039f"
            ],
            [
             0.2222222222222222,
             "#7201a8"
            ],
            [
             0.3333333333333333,
             "#9c179e"
            ],
            [
             0.4444444444444444,
             "#bd3786"
            ],
            [
             0.5555555555555556,
             "#d8576b"
            ],
            [
             0.6666666666666666,
             "#ed7953"
            ],
            [
             0.7777777777777778,
             "#fb9f3a"
            ],
            [
             0.8888888888888888,
             "#fdca26"
            ],
            [
             1,
             "#f0f921"
            ]
           ],
           "sequentialminus": [
            [
             0,
             "#0d0887"
            ],
            [
             0.1111111111111111,
             "#46039f"
            ],
            [
             0.2222222222222222,
             "#7201a8"
            ],
            [
             0.3333333333333333,
             "#9c179e"
            ],
            [
             0.4444444444444444,
             "#bd3786"
            ],
            [
             0.5555555555555556,
             "#d8576b"
            ],
            [
             0.6666666666666666,
             "#ed7953"
            ],
            [
             0.7777777777777778,
             "#fb9f3a"
            ],
            [
             0.8888888888888888,
             "#fdca26"
            ],
            [
             1,
             "#f0f921"
            ]
           ]
          },
          "colorway": [
           "#636efa",
           "#EF553B",
           "#00cc96",
           "#ab63fa",
           "#FFA15A",
           "#19d3f3",
           "#FF6692",
           "#B6E880",
           "#FF97FF",
           "#FECB52"
          ],
          "font": {
           "color": "#2a3f5f"
          },
          "geo": {
           "bgcolor": "white",
           "lakecolor": "white",
           "landcolor": "#E5ECF6",
           "showlakes": true,
           "showland": true,
           "subunitcolor": "white"
          },
          "hoverlabel": {
           "align": "left"
          },
          "hovermode": "closest",
          "mapbox": {
           "style": "light"
          },
          "paper_bgcolor": "white",
          "plot_bgcolor": "#E5ECF6",
          "polar": {
           "angularaxis": {
            "gridcolor": "white",
            "linecolor": "white",
            "ticks": ""
           },
           "bgcolor": "#E5ECF6",
           "radialaxis": {
            "gridcolor": "white",
            "linecolor": "white",
            "ticks": ""
           }
          },
          "scene": {
           "xaxis": {
            "backgroundcolor": "#E5ECF6",
            "gridcolor": "white",
            "gridwidth": 2,
            "linecolor": "white",
            "showbackground": true,
            "ticks": "",
            "zerolinecolor": "white"
           },
           "yaxis": {
            "backgroundcolor": "#E5ECF6",
            "gridcolor": "white",
            "gridwidth": 2,
            "linecolor": "white",
            "showbackground": true,
            "ticks": "",
            "zerolinecolor": "white"
           },
           "zaxis": {
            "backgroundcolor": "#E5ECF6",
            "gridcolor": "white",
            "gridwidth": 2,
            "linecolor": "white",
            "showbackground": true,
            "ticks": "",
            "zerolinecolor": "white"
           }
          },
          "shapedefaults": {
           "line": {
            "color": "#2a3f5f"
           }
          },
          "ternary": {
           "aaxis": {
            "gridcolor": "white",
            "linecolor": "white",
            "ticks": ""
           },
           "baxis": {
            "gridcolor": "white",
            "linecolor": "white",
            "ticks": ""
           },
           "bgcolor": "#E5ECF6",
           "caxis": {
            "gridcolor": "white",
            "linecolor": "white",
            "ticks": ""
           }
          },
          "title": {
           "x": 0.05
          },
          "xaxis": {
           "automargin": true,
           "gridcolor": "white",
           "linecolor": "white",
           "ticks": "",
           "title": {
            "standoff": 15
           },
           "zerolinecolor": "white",
           "zerolinewidth": 2
          },
          "yaxis": {
           "automargin": true,
           "gridcolor": "white",
           "linecolor": "white",
           "ticks": "",
           "title": {
            "standoff": 15
           },
           "zerolinecolor": "white",
           "zerolinewidth": 2
          }
         }
        },
        "title": {
         "text": "Trend of the Metric Daily Price",
         "x": 0.5,
         "xanchor": "center",
         "y": 0.9,
         "yanchor": "top"
        },
        "xaxis": {
         "autorange": true,
         "range": [
          0,
          55
         ],
         "tickangle": -45,
         "title": {
          "text": "Quarter"
         },
         "type": "category"
        },
        "yaxis": {
         "autorange": true,
         "range": [
          725.6822855555555,
          942.4365744444444
         ],
         "title": {
          "text": "Average Metric Value"
         },
         "type": "linear"
        }
       }
      },
      "image/png": "[encoded data removed]",
      "text/html": [
       "<div>                            <div id=\"807355d0-0e10-4752-8dd3-06a66dbce2dd\" class=\"plotly-graph-div\" style=\"height:525px; width:100%;\"></div>            <script type=\"text/javascript\">                require([\"plotly\"], function(Plotly) {                    window.PLOTLYENV=window.PLOTLYENV || {};                                    if (document.getElementById(\"807355d0-0e10-4752-8dd3-06a66dbce2dd\")) {                    Plotly.newPlot(                        \"807355d0-0e10-4752-8dd3-06a66dbce2dd\",                        [{\"mode\":\"lines\",\"name\":\"Mean\",\"x\":[\"2010-Q1\",\"2010-Q2\",\"2010-Q3\",\"2010-Q4\",\"2011-Q1\",\"2011-Q2\",\"2011-Q3\",\"2011-Q4\",\"2012-Q1\",\"2012-Q2\",\"2012-Q3\",\"2012-Q4\",\"2013-Q1\",\"2013-Q2\",\"2013-Q3\",\"2013-Q4\",\"2014-Q1\",\"2014-Q2\",\"2014-Q3\",\"2014-Q4\",\"2015-Q1\",\"2015-Q2\",\"2015-Q3\",\"2015-Q4\",\"2016-Q1\",\"2016-Q2\",\"2016-Q3\",\"2016-Q4\",\"2017-Q1\",\"2017-Q2\",\"2017-Q3\",\"2017-Q4\",\"2018-Q1\",\"2018-Q2\",\"2018-Q3\",\"2018-Q4\",\"2019-Q1\",\"2019-Q2\",\"2019-Q3\",\"2019-Q4\",\"2020-Q1\",\"2020-Q2\",\"2020-Q3\",\"2020-Q4\",\"2021-Q1\",\"2021-Q2\",\"2021-Q3\",\"2021-Q4\",\"2022-Q1\",\"2022-Q2\",\"2022-Q3\",\"2022-Q4\",\"2023-Q1\",\"2023-Q2\",\"2023-Q3\",\"2023-Q4\"],\"y\":[803.69442,805.3581800000001,798.55939,781.01447,790.64747,781.68548,804.70871,768.05785,808.48163,808.29825,816.63493,822.41562,784.27589,822.40006,813.1701400000001,815.31501,795.66786,817.8968299999999,846.9469,837.0975999999999,854.08091,811.33501,810.4747,848.31238,864.57172,853.0563000000001,831.86286,847.5798199999999,833.56975,870.00972,868.20722,872.99075,860.09802,854.23039,892.0034899999999,872.87224,841.81079,865.12612,864.70078,849.42755,871.6713599999999,911.31824,873.0046,883.8803800000001,898.40662,903.7583199999999,920.32051,910.2704,888.94137,894.10222,899.63114,929.7287,931.59886,910.88171,924.99484,930.98049],\"type\":\"scatter\"},{\"line\":{\"dash\":\"dash\"},\"mode\":\"lines\",\"name\":\"Median\",\"x\":[\"2010-Q1\",\"2010-Q2\",\"2010-Q3\",\"2010-Q4\",\"2011-Q1\",\"2011-Q2\",\"2011-Q3\",\"2011-Q4\",\"2012-Q1\",\"2012-Q2\",\"2012-Q3\",\"2012-Q4\",\"2013-Q1\",\"2013-Q2\",\"2013-Q3\",\"2013-Q4\",\"2014-Q1\",\"2014-Q2\",\"2014-Q3\",\"2014-Q4\",\"2015-Q1\",\"2015-Q2\",\"2015-Q3\",\"2015-Q4\",\"2016-Q1\",\"2016-Q2\",\"2016-Q3\",\"2016-Q4\",\"2017-Q1\",\"2017-Q2\",\"2017-Q3\",\"2017-Q4\",\"2018-Q1\",\"2018-Q2\",\"2018-Q3\",\"2018-Q4\",\"2019-Q1\",\"2019-Q2\",\"2019-Q3\",\"2019-Q4\",\"2020-Q1\",\"2020-Q2\",\"2020-Q3\",\"2020-Q4\",\"2021-Q1\",\"2021-Q2\",\"2021-Q3\",\"2021-Q4\",\"2022-Q1\",\"2022-Q2\",\"2022-Q3\",\"2022-Q4\",\"2023-Q1\",\"2023-Q2\",\"2023-Q3\",\"2023-Q4\"],\"y\":[799.9849999999999,784.0799999999999,781.585,752.11,787.005,774.89,790.44,736.52,782.625,786.315,792.575,799.54,756.315,791.005,805.6099999999999,778.335,747.14,797.885,826.975,791.0,822.415,790.535,798.04,827.755,855.835,826.5699999999999,779.595,823.5350000000001,808.3399999999999,873.0450000000001,856.2950000000001,861.925,828.8199999999999,837.48,897.47,848.98,812.88,829.21,836.84,828.35,854.25,911.495,852.125,852.41,876.885,896.56,913.355,887.355,886.1600000000001,873.75,886.12,910.935,921.75,892.95,893.645,925.95],\"type\":\"scatter\"}],                        {\"template\":{\"data\":{\"histogram2dcontour\":[{\"type\":\"histogram2dcontour\",\"colorbar\":{\"outlinewidth\":0,\"ticks\":\"\"},\"colorscale\":[[0.0,\"#0d0887\"],[0.1111111111111111,\"#46039f\"],[0.2222222222222222,\"#7201a8\"],[0.3333333333333333,\"#9c179e\"],[0.4444444444444444,\"#bd3786\"],[0.5555555555555556,\"#d8576b\"],[0.6666666666666666,\"#ed7953\"],[0.7777777777777778,\"#fb9f3a\"],[0.8888888888888888,\"#fdca26\"],[1.0,\"#f0f921\"]]}],\"choropleth\":[{\"type\":\"choropleth\",\"colorbar\":{\"outlinewidth\":0,\"ticks\":\"\"}}],\"histogram2d\":[{\"type\":\"histogram2d\",\"colorbar\":{\"outlinewidth\":0,\"ticks\":\"\"},\"colorscale\":[[0.0,\"#0d0887\"],[0.1111111111111111,\"#46039f\"],[0.2222222222222222,\"#7201a8\"],[0.3333333333333333,\"#9c179e\"],[0.4444444444444444,\"#bd3786\"],[0.5555555555555556,\"#d8576b\"],[0.6666666666666666,\"#ed7953\"],[0.7777777777777778,\"#fb9f3a\"],[0.8888888888888888,\"#fdca26\"],[1.0,\"#f0f921\"]]}],\"heatmap\":[{\"type\":\"heatmap\",\"colorbar\":{\"outlinewidth\":0,\"ticks\":\"\"},\"colorscale\":[[0.0,\"#0d0887\"],[0.1111111111111111,\"#46039f\"],[0.2222222222222222,\"#7201a8\"],[0.3333333333333333,\"#9c179e\"],[0.4444444444444444,\"#bd3786\"],[0.5555555555555556,\"#d8576b\"],[0.6666666666666666,\"#ed7953\"],[0.7777777777777778,\"#fb9f3a\"],[0.8888888888888888,\"#fdca26\"],[1.0,\"#f0f921\"]]}],\"heatmapgl\":[{\"type\":\"heatmapgl\",\"colorbar\":{\"outlinewidth\":0,\"ticks\":\"\"},\"colorscale\":[[0.0,\"#0d0887\"],[0.1111111111111111,\"#46039f\"],[0.2222222222222222,\"#7201a8\"],[0.3333333333333333,\"#9c179e\"],[0.4444444444444444,\"#bd3786\"],[0.5555555555555556,\"#d8576b\"],[0.6666666666666666,\"#ed7953\"],[0.7777777777777778,\"#fb9f3a\"],[0.8888888888888888,\"#fdca26\"],[1.0,\"#f0f921\"]]}],\"contourcarpet\":[{\"type\":\"contourcarpet\",\"colorbar\":{\"outlinewidth\":0,\"ticks\":\"\"}}],\"contour\":[{\"type\":\"contour\",\"colorbar\":{\"outlinewidth\":0,\"ticks\":\"\"},\"colorscale\":[[0.0,\"#0d0887\"],[0.1111111111111111,\"#46039f\"],[0.2222222222222222,\"#7201a8\"],[0.3333333333333333,\"#9c179e\"],[0.4444444444444444,\"#bd3786\"],[0.5555555555555556,\"#d8576b\"],[0.6666666666666666,\"#ed7953\"],[0.7777777777777778,\"#fb9f3a\"],[0.8888888888888888,\"#fdca26\"],[1.0,\"#f0f921\"]]}],\"surface\":[{\"type\":\"surface\",\"colorbar\":{\"outlinewidth\":0,\"ticks\":\"\"},\"colorscale\":[[0.0,\"#0d0887\"],[0.1111111111111111,\"#46039f\"],[0.2222222222222222,\"#7201a8\"],[0.3333333333333333,\"#9c179e\"],[0.4444444444444444,\"#bd3786\"],[0.5555555555555556,\"#d8576b\"],[0.6666666666666666,\"#ed7953\"],[0.7777777777777778,\"#fb9f3a\"],[0.8888888888888888,\"#fdca26\"],[1.0,\"#f0f921\"]]}],\"mesh3d\":[{\"type\":\"mesh3d\",\"colorbar\":{\"outlinewidth\":0,\"ticks\":\"\"}}],\"scatter\":[{\"fillpattern\":{\"fillmode\":\"overlay\",\"size\":10,\"solidity\":0.2},\"type\":\"scatter\"}],\"parcoords\":[{\"type\":\"parcoords\",\"line\":{\"colorbar\":{\"outlinewidth\":0,\"ticks\":\"\"}}}],\"scatterpolargl\":[{\"type\":\"scatterpolargl\",\"marker\":{\"colorbar\":{\"outlinewidth\":0,\"ticks\":\"\"}}}],\"bar\":[{\"error_x\":{\"color\":\"#2a3f5f\"},\"error_y\":{\"color\":\"#2a3f5f\"},\"marker\":{\"line\":{\"color\":\"#E5ECF6\",\"width\":0.5},\"pattern\":{\"fillmode\":\"overlay\",\"size\":10,\"solidity\":0.2}},\"type\":\"bar\"}],\"scattergeo\":[{\"type\":\"scattergeo\",\"marker\":{\"colorbar\":{\"outlinewidth\":0,\"ticks\":\"\"}}}],\"scatterpolar\":[{\"type\":\"scatterpolar\",\"marker\":{\"colorbar\":{\"outlinewidth\":0,\"ticks\":\"\"}}}],\"histogram\":[{\"marker\":{\"pattern\":{\"fillmode\":\"overlay\",\"size\":10,\"solidity\":0.2}},\"type\":\"histogram\"}],\"scattergl\":[{\"type\":\"scattergl\",\"marker\":{\"colorbar\":{\"outlinewidth\":0,\"ticks\":\"\"}}}],\"scatter3d\":[{\"type\":\"scatter3d\",\"line\":{\"colorbar\":{\"outlinewidth\":0,\"ticks\":\"\"}},\"marker\":{\"colorbar\":{\"outlinewidth\":0,\"ticks\":\"\"}}}],\"scattermapbox\":[{\"type\":\"scattermapbox\",\"marker\":{\"colorbar\":{\"outlinewidth\":0,\"ticks\":\"\"}}}],\"scatterternary\":[{\"type\":\"scatterternary\",\"marker\":{\"colorbar\":{\"outlinewidth\":0,\"ticks\":\"\"}}}],\"scattercarpet\":[{\"type\":\"scattercarpet\",\"marker\":{\"colorbar\":{\"outlinewidth\":0,\"ticks\":\"\"}}}],\"carpet\":[{\"aaxis\":{\"endlinecolor\":\"#2a3f5f\",\"gridcolor\":\"white\",\"linecolor\":\"white\",\"minorgridcolor\":\"white\",\"startlinecolor\":\"#2a3f5f\"},\"baxis\":{\"endlinecolor\":\"#2a3f5f\",\"gridcolor\":\"white\",\"linecolor\":\"white\",\"minorgridcolor\":\"white\",\"startlinecolor\":\"#2a3f5f\"},\"type\":\"carpet\"}],\"table\":[{\"cells\":{\"fill\":{\"color\":\"#EBF0F8\"},\"line\":{\"color\":\"white\"}},\"header\":{\"fill\":{\"color\":\"#C8D4E3\"},\"line\":{\"color\":\"white\"}},\"type\":\"table\"}],\"barpolar\":[{\"marker\":{\"line\":{\"color\":\"#E5ECF6\",\"width\":0.5},\"pattern\":{\"fillmode\":\"overlay\",\"size\":10,\"solidity\":0.2}},\"type\":\"barpolar\"}],\"pie\":[{\"automargin\":true,\"type\":\"pie\"}]},\"layout\":{\"autotypenumbers\":\"strict\",\"colorway\":[\"#636efa\",\"#EF553B\",\"#00cc96\",\"#ab63fa\",\"#FFA15A\",\"#19d3f3\",\"#FF6692\",\"#B6E880\",\"#FF97FF\",\"#FECB52\"],\"font\":{\"color\":\"#2a3f5f\"},\"hovermode\":\"closest\",\"hoverlabel\":{\"align\":\"left\"},\"paper_bgcolor\":\"white\",\"plot_bgcolor\":\"#E5ECF6\",\"polar\":{\"bgcolor\":\"#E5ECF6\",\"angularaxis\":{\"gridcolor\":\"white\",\"linecolor\":\"white\",\"ticks\":\"\"},\"radialaxis\":{\"gridcolor\":\"white\",\"linecolor\":\"white\",\"ticks\":\"\"}},\"ternary\":{\"bgcolor\":\"#E5ECF6\",\"aaxis\":{\"gridcolor\":\"white\",\"linecolor\":\"white\",\"ticks\":\"\"},\"baxis\":{\"gridcolor\":\"white\",\"linecolor\":\"white\",\"ticks\":\"\"},\"caxis\":{\"gridcolor\":\"white\",\"linecolor\":\"white\",\"ticks\":\"\"}},\"coloraxis\":{\"colorbar\":{\"outlinewidth\":0,\"ticks\":\"\"}},\"colorscale\":{\"sequential\":[[0.0,\"#0d0887\"],[0.1111111111111111,\"#46039f\"],[0.2222222222222222,\"#7201a8\"],[0.3333333333333333,\"#9c179e\"],[0.4444444444444444,\"#bd3786\"],[0.5555555555555556,\"#d8576b\"],[0.6666666666666666,\"#ed7953\"],[0.7777777777777778,\"#fb9f3a\"],[0.8888888888888888,\"#fdca26\"],[1.0,\"#f0f921\"]],\"sequentialminus\":[[0.0,\"#0d0887\"],[0.1111111111111111,\"#46039f\"],[0.2222222222222222,\"#7201a8\"],[0.3333333333333333,\"#9c179e\"],[0.4444444444444444,\"#bd3786\"],[0.5555555555555556,\"#d8576b\"],[0.6666666666666666,\"#ed7953\"],[0.7777777777777778,\"#fb9f3a\"],[0.8888888888888888,\"#fdca26\"],[1.0,\"#f0f921\"]],\"diverging\":[[0,\"#8e0152\"],[0.1,\"#c51b7d\"],[0.2,\"#de77ae\"],[0.3,\"#f1b6da\"],[0.4,\"#fde0ef\"],[0.5,\"#f7f7f7\"],[0.6,\"#e6f5d0\"],[0.7,\"#b8e186\"],[0.8,\"#7fbc41\"],[0.9,\"#4d9221\"],[1,\"#276419\"]]},\"xaxis\":{\"gridcolor\":\"white\",\"linecolor\":\"white\",\"ticks\":\"\",\"title\":{\"standoff\":15},\"zerolinecolor\":\"white\",\"automargin\":true,\"zerolinewidth\":2},\"yaxis\":{\"gridcolor\":\"white\",\"linecolor\":\"white\",\"ticks\":\"\",\"title\":{\"standoff\":15},\"zerolinecolor\":\"white\",\"automargin\":true,\"zerolinewidth\":2},\"scene\":{\"xaxis\":{\"backgroundcolor\":\"#E5ECF6\",\"gridcolor\":\"white\",\"linecolor\":\"white\",\"showbackground\":true,\"ticks\":\"\",\"zerolinecolor\":\"white\",\"gridwidth\":2},\"yaxis\":{\"backgroundcolor\":\"#E5ECF6\",\"gridcolor\":\"white\",\"linecolor\":\"white\",\"showbackground\":true,\"ticks\":\"\",\"zerolinecolor\":\"white\",\"gridwidth\":2},\"zaxis\":{\"backgroundcolor\":\"#E5ECF6\",\"gridcolor\":\"white\",\"linecolor\":\"white\",\"showbackground\":true,\"ticks\":\"\",\"zerolinecolor\":\"white\",\"gridwidth\":2}},\"shapedefaults\":{\"line\":{\"color\":\"#2a3f5f\"}},\"annotationdefaults\":{\"arrowcolor\":\"#2a3f5f\",\"arrowhead\":0,\"arrowwidth\":1},\"geo\":{\"bgcolor\":\"white\",\"landcolor\":\"#E5ECF6\",\"subunitcolor\":\"white\",\"showland\":true,\"showlakes\":true,\"lakecolor\":\"white\"},\"title\":{\"x\":0.05},\"mapbox\":{\"style\":\"light\"}}},\"title\":{\"text\":\"Trend of the Metric Daily Price\",\"y\":0.9,\"x\":0.5,\"xanchor\":\"center\",\"yanchor\":\"top\"},\"xaxis\":{\"title\":{\"text\":\"Quarter\"},\"tickangle\":-45},\"yaxis\":{\"title\":{\"text\":\"Average Metric Value\"}}},                        {\"responsive\": true}                    ).then(function(){\n",
       "                            \n",
       "var gd = document.getElementById('807355d0-0e10-4752-8dd3-06a66dbce2dd');\n",
       "var x = new MutationObserver(function (mutations, observer) {{\n",
       "        var display = window.getComputedStyle(gd).display;\n",
       "        if (!display || display === 'none') {{\n",
       "            console.log([gd, 'removed!']);\n",
       "            Plotly.purge(gd);\n",
       "            observer.disconnect();\n",
       "        }}\n",
       "}});\n",
       "\n",
       "// Listen for the removal of the full notebook cells\n",
       "var notebookContainer = gd.closest('#notebook-container');\n",
       "if (notebookContainer) {{\n",
       "    x.observe(notebookContainer, {childList: true});\n",
       "}}\n",
       "\n",
       "// Listen for the clearing of the current output cell\n",
       "var outputEl = gd.closest('.output');\n",
       "if (outputEl) {{\n",
       "    x.observe(outputEl, {childList: true});\n",
       "}}\n",
       "\n",
       "                        })                };                });            </script>        </div>"
      ]
     },
     "metadata": {},
     "output_type": "display_data"
    }
   ],
   "source": [
    "create_aggregated_time_series_plot(simulated_data_with_ids_and_filters,'Daily Price')"
   ]
  },
  {
   "cell_type": "code",
   "execution_count": 58,
   "id": "79d7b50c-e438-49a4-8d48-283052a95d63",
   "metadata": {},
   "outputs": [],
   "source": [
    "simulated_data_with_ids_and_filters.to_csv('../data/raw/simulated.csv',index=False)"
   ]
  }
 ],
 "metadata": {
  "kernelspec": {
   "display_name": "Python 3 (ipykernel)",
   "language": "python",
   "name": "python3"
  },
  "language_info": {
   "codemirror_mode": {
    "name": "ipython",
    "version": 3
   },
   "file_extension": ".py",
   "mimetype": "text/x-python",
   "name": "python",
   "nbconvert_exporter": "python",
   "pygments_lexer": "ipython3",
   "version": "3.11.6"
  }
 },
 "nbformat": 4,
 "nbformat_minor": 5
}
