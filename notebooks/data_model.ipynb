{
 "cells": [
  {
   "cell_type": "code",
   "execution_count": 1,
   "id": "003409c7-cd7c-4121-ae67-55eb2bcb2942",
   "metadata": {},
   "outputs": [],
   "source": [
    "### This script is to record the model development for the illustration of the prediction page"
   ]
  },
  {
   "cell_type": "code",
   "execution_count": 37,
   "id": "c2776391-bdc0-4707-8edd-68cf04559c7d",
   "metadata": {},
   "outputs": [],
   "source": [
    "import numpy as np\n",
    "import pandas as pd\n",
    "from sklearn.model_selection import train_test_split, cross_val_score\n",
    "from sklearn.linear_model import LinearRegression, Ridge\n",
    "from sklearn.ensemble import RandomForestRegressor\n",
    "from sklearn.metrics import mean_squared_error, r2_score\n",
    "from sklearn.preprocessing import OneHotEncoder\n",
    "from sklearn.compose import ColumnTransformer\n",
    "from sklearn.impute import SimpleImputer\n",
    "from sklearn.pipeline import Pipeline\n",
    "import joblib"
   ]
  },
  {
   "cell_type": "code",
   "execution_count": 3,
   "id": "3f8fbe6c-2af9-4471-91ec-8e60e534c30d",
   "metadata": {},
   "outputs": [],
   "source": [
    "data = pd.read_csv('../data/raw/listings.csv')"
   ]
  },
  {
   "cell_type": "code",
   "execution_count": 15,
   "id": "efa5eebc-92ee-47c8-9703-899af302cf34",
   "metadata": {},
   "outputs": [],
   "source": [
    "data[\"bathroom_adjusted\"] = data[\"bathrooms_text\"].str.extract(r'([0-9.]+)', expand = False).astype(float)\n",
    "data[\"price_adjusted\"] = data[\"price\"].str.extract(r'([0-9.]+)', expand = False).astype(float)"
   ]
  },
  {
   "cell_type": "code",
   "execution_count": 25,
   "id": "669f6516-ffdd-4fcd-9a94-5b42ad0adc03",
   "metadata": {},
   "outputs": [],
   "source": [
    "data = data[['longitude','latitude','accommodates','room_type','beds','bathroom_adjusted','price_adjusted']]"
   ]
  },
  {
   "cell_type": "code",
   "execution_count": 46,
   "id": "989dc6e2-0f3b-4281-a335-ecc480c42b6f",
   "metadata": {},
   "outputs": [
    {
     "name": "stdout",
     "output_type": "stream",
     "text": [
      "Linear Regression:\n",
      "Mean Squared Error: 12414.222560145628\n",
      "R-squared: 0.3773279680203394\n",
      "Ridge Regression:\n",
      "Mean Squared Error: 12440.863966672623\n",
      "R-squared: 0.37599168951747\n",
      "Random Forest Regression:\n",
      "Mean Squared Error: 8105.981344444465\n",
      "R-squared: 0.5934205424076717\n"
     ]
    }
   ],
   "source": [
    "# Step 1: Data Preparation\n",
    "data_copy = data.dropna(subset=['price_adjusted']).copy()  # Drop rows with missing target variable\n",
    "X = data_copy.drop(columns=['price_adjusted'])  # Independent variables\n",
    "y = data_copy['price_adjusted']  # Dependent variable\n",
    "\n",
    "# Step 2: Define the preprocessing steps\n",
    "# Handle missing values\n",
    "num_cols = X.select_dtypes(include='number').columns\n",
    "cat_cols = ['room_type']\n",
    "\n",
    "preprocessor = ColumnTransformer(\n",
    "    transformers=[\n",
    "        ('num', SimpleImputer(strategy='mean'), num_cols),\n",
    "        ('cat', OneHotEncoder(), cat_cols)\n",
    "    ])\n",
    "\n",
    "# Step 3: Define the models with preprocessing in a Pipeline\n",
    "linear_model = Pipeline([\n",
    "    ('preprocessor', preprocessor),\n",
    "    ('regressor', LinearRegression())\n",
    "])\n",
    "\n",
    "ridge_model = Pipeline([\n",
    "    ('preprocessor', preprocessor),\n",
    "    ('regressor', Ridge(alpha=1.0))\n",
    "])\n",
    "\n",
    "rf_model = Pipeline([\n",
    "    ('preprocessor', preprocessor),\n",
    "    ('regressor', RandomForestRegressor(random_state=42))\n",
    "])\n",
    "\n",
    "# Step 4: Split the data into training and testing sets\n",
    "X_train, X_test, y_train, y_test = train_test_split(X, y, test_size=0.2, random_state=42)\n",
    "\n",
    "# Step 5: Model Building and Evaluation\n",
    "models = {'Linear Regression': linear_model, 'Ridge Regression': ridge_model, 'Random Forest Regression': rf_model}\n",
    "best_model = None\n",
    "best_mse = float('inf')\n",
    "\n",
    "for name, model in models.items():\n",
    "    model.fit(X_train, y_train)\n",
    "    y_pred = model.predict(X_test)\n",
    "    mse = mean_squared_error(y_test, y_pred)\n",
    "    r2 = r2_score(y_test, y_pred)\n",
    "    \n",
    "    print(f\"{name}:\")\n",
    "    print(f\"Mean Squared Error: {mse}\")\n",
    "    print(f\"R-squared: {r2}\")\n",
    "    \n",
    "    if mse < best_mse:\n",
    "        best_model = model\n",
    "        best_mse = mse"
   ]
  },
  {
   "cell_type": "code",
   "execution_count": 42,
   "id": "24ab7652-c7f7-461f-a382-9dacf96d3b2b",
   "metadata": {},
   "outputs": [
    {
     "name": "stdout",
     "output_type": "stream",
     "text": [
      "Cross-Validation R2 Scores: [0.53427625 0.53558056 0.69076289 0.70898619 0.66815026]\n",
      "Mean R2: 0.6275512276591882\n"
     ]
    }
   ],
   "source": [
    "# More cross validation with the best model Random Forest\n",
    "# Step 3: Define the best model with preprocessing in a Pipeline\n",
    "model_for_cv = Pipeline([\n",
    "    ('preprocessor', preprocessor),\n",
    "    ('regressor', RandomForestRegressor(random_state=42))\n",
    "])\n",
    "\n",
    "# Step 5: Perform cross-validation with the best model\n",
    "cv_scores = cross_val_score(model_for_cv, X, y, cv=5, scoring='r2')\n",
    "cv_r2_scores = cv_scores\n",
    "\n",
    "print(\"Cross-Validation R2 Scores:\", cv_r2_scores)\n",
    "print(\"Mean R2:\", cv_r2_scores.mean())"
   ]
  },
  {
   "cell_type": "code",
   "execution_count": 43,
   "id": "2b61896e-d8bc-45c7-b504-cd5c0c6ae2d7",
   "metadata": {},
   "outputs": [
    {
     "name": "stdout",
     "output_type": "stream",
     "text": [
      "Best Parameters: {'regressor__max_depth': None, 'regressor__n_estimators': 200}\n",
      "\n",
      "Best Model Performance:\n",
      "Mean Squared Error: 8109.2777470813635\n",
      "R-squared: 0.5932552015884462\n"
     ]
    }
   ],
   "source": [
    "# Very simple hyperparamter tuning, my computer does not have that much resources\n",
    "# Step 3: Define the model pipeline\n",
    "model = Pipeline([\n",
    "    ('preprocessor', preprocessor),\n",
    "    ('regressor', RandomForestRegressor(random_state=42))\n",
    "])\n",
    "\n",
    "# Step 5: Define the hyperparameter grid\n",
    "param_grid = {\n",
    "    'regressor__n_estimators': [100, 200],  # Number of trees in the forest\n",
    "    'regressor__max_depth': [None, 10]  # Maximum depth of the trees\n",
    "}\n",
    "\n",
    "# Step 6: Perform GridSearchCV for hyperparameter tuning\n",
    "grid_search = GridSearchCV(estimator=model, param_grid=param_grid, cv=5, scoring='neg_mean_squared_error')\n",
    "grid_search.fit(X_train, y_train)\n",
    "\n",
    "# Step 7: Best parameters and best estimator\n",
    "best_params = grid_search.best_params_\n",
    "best_estimator = grid_search.best_estimator_\n",
    "\n",
    "print(\"Best Parameters:\", best_params)\n",
    "\n",
    "# Step 8: Evaluate the best model on the test set\n",
    "y_pred = best_estimator.predict(X_test)\n",
    "mse = mean_squared_error(y_test, y_pred)\n",
    "r2 = r2_score(y_test, y_pred)\n",
    "\n",
    "print(\"\\nBest Model Performance:\")\n",
    "print(f\"Mean Squared Error: {mse}\")\n",
    "print(f\"R-squared: {r2}\")"
   ]
  },
  {
   "cell_type": "code",
   "execution_count": 45,
   "id": "f6b0c33e-dc61-4b9b-b0a9-ef5eeb30bdc1",
   "metadata": {},
   "outputs": [
    {
     "data": {
      "text/plain": [
       "['../models/price_model.pkl']"
      ]
     },
     "execution_count": 45,
     "metadata": {},
     "output_type": "execute_result"
    }
   ],
   "source": [
    "import joblib\n",
    "\n",
    "# Save the best best_estimator\n",
    "joblib.dump(best_estimator, '../models/price_model.pkl')  # It seems this model is too big, I will change back to the default RF"
   ]
  },
  {
   "cell_type": "code",
   "execution_count": 47,
   "id": "6ec325c9-e07d-4314-ac35-a1a40110598f",
   "metadata": {},
   "outputs": [
    {
     "data": {
      "text/plain": [
       "['../models/price_model.pkl']"
      ]
     },
     "execution_count": 47,
     "metadata": {},
     "output_type": "execute_result"
    }
   ],
   "source": [
    "# Save the best model\n",
    "joblib.dump(best_model, '../models/price_model.pkl')  # It seems this model is too big, I will change back to the default RF"
   ]
  }
 ],
 "metadata": {
  "kernelspec": {
   "display_name": "Python 3 (ipykernel)",
   "language": "python",
   "name": "python3"
  },
  "language_info": {
   "codemirror_mode": {
    "name": "ipython",
    "version": 3
   },
   "file_extension": ".py",
   "mimetype": "text/x-python",
   "name": "python",
   "nbconvert_exporter": "python",
   "pygments_lexer": "ipython3",
   "version": "3.11.6"
  }
 },
 "nbformat": 4,
 "nbformat_minor": 5
}
