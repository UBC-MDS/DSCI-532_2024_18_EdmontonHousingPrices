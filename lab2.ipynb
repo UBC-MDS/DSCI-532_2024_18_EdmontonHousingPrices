{
 "cells": [
  {
   "cell_type": "markdown",
   "id": "f0ac28d6-9113-4c6a-9743-21f4a49db133",
   "metadata": {},
   "source": [
    "# DSCI 542 Lab 2\n",
    "\n",
    "**Mechanics (5pts)**\n",
    "\n",
    "-   Export the notebook to a `.html` file and push everything to your Github repo\n",
    "-   Double check all the figures, texts, equations are rendered properly in the `.html` file\n",
    "-   Submit the `.html` files to Canvas under [lab 2 - individual](https://canvas.ubc.ca/courses/130306/assignments/1811255)\n",
    "-   Submit a draft link to your medium blog post under [lab 2 - peer review](https://canvas.ubc.ca/courses/130306/assignments/1811256)\n",
    "-   Paste the draft link of your blog post here: https://medium.com/@akumasunie/mastering-prompt-engineering-a-data-scientists-guide-in-the-era-of-large-language-models-35aae6b32112"
   ]
  },
  {
   "cell_type": "markdown",
   "id": "331aee6d-9b28-4e01-bac5-f6992d750d13",
   "metadata": {},
   "source": [
    "## Exercise 1: Explain complex concepts to non-technical audience\n",
    "\n",
    "Explaining complex data science concepts to non-technical audience is a valuable skills set for any data scientists. By doing so, you can clearly communicate the results of their analysis and the insights they have gained, helping non-technical audiences to **understand the significance and implications of their work**. By writing clearly and concisely, data scientists can ensure that their ideas and insights are understood by their colleagues and that they can **work together effectively**. Finally, it can help you **build credibility and trust with your colleagues**, and demonstrate the value and relevance of your work."
   ]
  },
  {
   "cell_type": "markdown",
   "id": "83b737b2-038c-4d04-9eb2-c668df65c2ac",
   "metadata": {},
   "source": [
    "Here are some tips for effective writing data science communication:\n",
    "\n",
    "- **Be clear and concise**: Avoid using jargon or overly technical language, and aim to explain concepts in a simple and straightforward manner.\n",
    "- **Use examples**: Illustrate your points with examples or case studies to help make the material more relatable and easier to understand.\n",
    "- **Break down complex concepts** If you are explaining a complex concept, break it down into smaller, more manageable pieces and explain each piece separately.\n",
    "- **Use visual aids**: Use charts, graphs, or other visual aids to help clarify and illustrate your points.\n",
    "- **Ask for feedback**: Review your writing carefully to ensure that it is accurate and well-organized, and ask for feedback from others if needed."
   ]
  },
  {
   "cell_type": "markdown",
   "id": "7bced127-8786-418c-bb9d-cd1f76d11841",
   "metadata": {},
   "source": [
    "In this exercise, you will be tasked to explain a complex concept to a non-technical audience (an activity that you will find yourself doing frequently later on when you work as a data scientist). In each scenario, I would like you to:\n",
    "\n",
    "1) Identify and highlight jargons and complex terms that might not be easy to understand by non-technical audiences\n",
    "\n",
    "2) Rewrite and explain the concept in a clear and concise way, create additional visual aids if neccessary"
   ]
  },
  {
   "cell_type": "markdown",
   "id": "d1295458-d6f7-4e76-9f45-4db654aa8d88",
   "metadata": {},
   "source": [
    "### Scenario 1\n",
    "\n",
    "rubric={[writing for non-technical audience](#Rubric-writing-for-non-technical-audience):10}\n",
    "\n",
    "Arman is a data scientist who is working on imagage classification using convolutional neural network (CNN) to detect license plate from CCTV webcam for UBC parking. Arman is about to deliver a presentation of his findings to a group of UBC campus planners and coordinators and how this technique could help UBC understand the traffic flow at UBC and help campus plan better.\n",
    "\n",
    "Arman quickly googled an explanation of convolutional neural network, and here's the first result from [Wikipedia](https://en.wikipedia.org/wiki/Convolutional_neural_network)\n",
    "\n",
    ">>\n",
    "In deep learning, a convolutional neural network (CNN, or ConvNet) is a class of artificial neural network (ANN), most commonly applied to analyze visual imagery.[1] CNNs are also known as Shift Invariant or Space Invariant Artificial Neural Networks (SIANN), based on the shared-weight architecture of the convolution kernels or filters that slide along input features and provide translation-equivariant responses known as feature maps.[2][3] Counter-intuitively, most convolutional neural networks are not invariant to translation, due to the downsampling operation they apply to the input.[4] They have applications in image and video recognition, recommender systems,[5] image classification, image segmentation, medical image analysis, natural language processing,[6] brain–computer interfaces,[7] and financial time series.[8]\n",
    ">>\n",
    "CNNs are regularized versions of multilayer perceptrons. Multilayer perceptrons usually mean fully connected networks, that is, each neuron in one layer is connected to all neurons in the next layer. The \"full connectivity\" of these networks make them prone to overfitting data. Typical ways of regularization, or preventing overfitting, include: penalizing parameters during training (such as weight decay) or trimming connectivity (skipped connections, dropout, etc.) CNNs take a different approach towards regularization: they take advantage of the hierarchical pattern in data and assemble patterns of increasing complexity using smaller and simpler patterns embossed in their filters. Therefore, on a scale of connectivity and complexity, CNNs are on the lower extreme.\n",
    "\n",
    "Being a genius, ofcourse Arman understands all of it but he also knows that this technical explaination is not suitable for the upcoming meeting with UBC campus planners. Arman turns to you, a trusted friend, to help him explain the concept of CNN to non-technical audience"
   ]
  },
  {
   "cell_type": "markdown",
   "id": "83497cbc-f575-460b-a215-d1011a4e911c",
   "metadata": {},
   "source": [
    "1. Identify and highlight jargons and complex terms that might not be easy to understand by non-technical audiences.\n",
    "\n",
    "> Convolutional Neural Network (CNN, or ConvNet): Specific technical term unfamiliar to non-technical audiences.\n",
    "> \n",
    "> Artificial Neural Network (ANN): Another technical term requiring simplification.\n",
    ">\n",
    "> Analyze visual imagery: A bit technical; could be simplified.\n",
    ">\n",
    "> Shift Invariant or Space Invariant Artificial Neural Networks (SIANN): Complex and technical terminology.\n",
    ">\n",
    "> Shared-weight architecture of the convolution kernels or filters: Highly technical with jargon.\n",
    ">\n",
    "> Slide along input features and provide translation-equivariant responses known as feature maps: Very technical and complex.\n",
    ">\n",
    "> Translation-invariant, downsampling operation: Advanced technical concepts.\n",
    ">\n",
    "> Overfitting data: Requires simplification for broader understanding.\n",
    ">\n",
    "> Regularization, penalizing parameters, weight decay, skipped connections, dropout: Specific terms that are too technical for a general audience.\n",
    ">\n",
    "> Hierarchical pattern in data, assemble patterns of increasing complexity using smaller and simpler patterns embossed in their filters: Complex and needs simplification."
   ]
  },
  {
   "cell_type": "markdown",
   "id": "84d5d529-2014-4eed-bed8-c24c9c2f62da",
   "metadata": {},
   "source": [
    "2. Rewrite and explain the concept in a clear and concise way, create additional visual aids if neccessary. Please keep in mind the audience that you are writing for.\n",
    "\n",
    "> Imagine you're using a high-tech camera to automatically recognize car license plates in a parking lot. This camera doesn't just take pictures; it uses a special method to understand what's in those pictures. We call this method a Convolutional Neural Network, or CNN for short.\n",
    ">\n",
    "> Think of CNN as a smart detective that's really good at finding patterns. When it looks at an image, like a car's license plate, it doesn't just see the whole picture at once. Instead, it focuses on small parts one by one, like the numbers and letters on the plate.\n",
    ">\n",
    "> It's like when you solve a jigsaw puzzle: you start with small pieces and figure out how they connect to form the full picture. Similarly, the CNN starts with tiny parts of the image, understands them, and then combines this knowledge to recognize what's in the whole image, like identifying a license plate.\n",
    ">\n",
    "> Now, you might wonder why we don't just use a regular camera or a simple computer program. The issue with those is that they might get too fixated on specific details and miss the big picture. For example, they might get confused by shadows or different lighting and fail to recognize the plate correctly. The CNN is smarter - it learns to focus on what's important and ignore misleading details.\n",
    ">\n",
    "> For UBC's parking, using a CNN means we can smartly and efficiently keep track of which cars are entering and leaving. This helps us understand the traffic flow and make better plans for campus facilities."
   ]
  },
  {
   "cell_type": "markdown",
   "id": "05d5ca51-4573-4ea5-a3c3-c2eb9e8e0be8",
   "metadata": {},
   "source": [
    "### Scenario 2\n",
    "\n",
    "rubric={[writing for non-technical audience](#Rubric-writing-for-non-technical-audience):10}\n",
    "\n",
    "Varada is a data scientist who is working on natural language processing (NLP), in particular, using word embeddings (word2vec) to classify restaurant reviews as positive or negative. Varada is going to meet with a group of restaurant owners to present her findings. \n",
    "\n",
    "Varada quickly googled an explanation of word2vec, and here's the first result from [Wikipedia](https://en.wikipedia.org/wiki/Word2vec)\n",
    "\n",
    ">>\n",
    "Word2vec is a group of related models that are used to produce word embeddings. These models are shallow, two-layer neural networks that are trained to reconstruct linguistic contexts of words. Word2vec takes as its input a large corpus of text and produces a vector space, typically of several hundred dimensions, with each unique word in the corpus being assigned a corresponding vector in the space.\n",
    ">>\n",
    "Word2vec can utilize either of two model architectures to produce these distributed representations of words: continuous bag-of-words (CBOW) or continuous skip-gram. In both architectures, word2vec considers both individual words and a sliding window of context words surrounding individual words as it iterates over the entire corpus. In the continuous bag-of-words architecture, the model predicts the current word from the window of surrounding context words. The order of context words does not influence prediction (bag-of-words assumption). In the continuous skip-gram architecture, the model uses the current word to predict the surrounding window of context words.[1][2] The skip-gram architecture weighs nearby context words more heavily than more distant context words. According to the authors' note,[3] CBOW is faster while skip-gram does a better job for infrequent words.\n",
    ">>\n",
    "After the model has trained, the learned word embeddings are positioned in the vector space such that words that share common contexts in the corpus — that is, words that are semantically and syntactically similar — are located close to one another in the space.[1] More dissimilar words are located farther from one another in the space.[1]\n",
    ">>\n",
    "This occurs because words which influence relative word probabilities in similar ways will have learned similar embeddings once the model has finished. For example, consider the CBOW framework, which can be thought of as a ‘fill in the blank’ task. The learned embedding for a word will represent the way in which, when that word appears in a context window, it influences the relative probabilities of other words appearing in the ‘blank,’ or the position at the center of the context window. Therefore, words which are semantically similar should influence these probabilities in similar ways, because semantically similar words should be used in similar contexts.\n",
    "\n",
    "Holding a Ph.D in NLP, Varada finds all of this 'easy to understand'... However, she is well aware that the group of restaurant owners might find it confusing. Varada turned to you, her trusted friend, to help her simplify the explanation of word2vec for the restaurant owners"
   ]
  },
  {
   "cell_type": "markdown",
   "id": "d83842d5-bf7d-4eaf-89b7-c4b762946709",
   "metadata": {},
   "source": [
    "1. Identify and highlight jargons and complex terms that might not be easy to understand by non-technical audiences. Please keep in mind the audience that you are writing for.\n",
    "\n",
    "> Word2vec: A specific model name, unclear to those outside of data science.\n",
    ">\n",
    "> Word embeddings: Technical term unfamiliar to a general audience.\n",
    ">\n",
    "> Shallow, two-layer neural networks: Complex technical details.\n",
    ">\n",
    "> Reconstruct linguistic contexts of words: Jargon-laden and abstract.\n",
    ">\n",
    "> Vector space, dimensions: Mathematical concepts that need simplification.\n",
    ">\n",
    "> Corpus: A term used in linguistics and data science, not commonly understood.\n",
    ">\n",
    "> Continuous bag-of-words (CBOW), continuous skip-gram: Specific architectures that are too technical.\n",
    ">\n",
    "> Context words, sliding window of context words: Complex terms related to NLP.\n",
    ">\n",
    "> Order of context words, bag-of-words assumption: Specific NLP concepts.\n",
    ">\n",
    "> Semantically and syntactically similar: Linguistic terms that may be too technical.\n",
    ">\n",
    "> Distributed representations of words: Advanced concept in NLP.\n",
    ">\n",
    "> Fill in the blank task, context window, relative probabilities: Technical explanations of how the model works."
   ]
  },
  {
   "cell_type": "markdown",
   "id": "d541fcb1-45ce-468c-89d0-57690c63dda2",
   "metadata": {},
   "source": [
    "2. Rewrite and explain the concept in a clear and concise way, create additional visual aids if neccessary\n",
    "\n",
    "> Imagine you're a chef trying to understand what customers think about your dishes based on their reviews. Now, there's a tool, kind of like a smart assistant, that helps you do this. We call this tool \"word2vec\".\n",
    ">\n",
    "> Word2vec is like a whiz at understanding language. It reads through loads of restaurant reviews (or any kind of text) and learns how words are used. It pays attention to how words are related to each other, just like how garlic and onions often appear together in recipes.\n",
    ">\n",
    "> For example, it learns that when people say \"delicious\", \"tasty\", or \"yummy\", they usually mean something positive about the food. Similarly, words like \"bland\" or \"overcooked\" often point to a not-so-great experience.\n",
    ">\n",
    "> Word2vec works its magic by creating a map of words. In this map, words with similar meanings are like neighbors. So, \"delicious\" and \"tasty\" would be close together, while \"delicious\" and \"bland\" would be far apart.\n",
    ">\n",
    "> Now, for the restaurant owners, this tool can analyze reviews to figure out if they're generally positive or negative. It's like having a smart helper who reads all the reviews and tells you, \"Looks like customers love your spaghetti but aren't too happy with the salads.\""
   ]
  },
  {
   "cell_type": "markdown",
   "id": "e04a735d-24ac-4b97-a397-8a8b2bc41a41",
   "metadata": {},
   "source": [
    "## Exercise 2: Understand your audience\n",
    "\n",
    "rubric={completion:5}\n",
    "\n",
    "An audience persona is a brief written description of a specific person in your target audience, who might be real or imagined. It should include the following information about the person:\n",
    "\n",
    "- Their **experience**. How much experience do they have with your subject, and of what kind?\n",
    "- Their **motivation**. Why do they want to learn about this subject? If they have any specific goals, what are they?\n",
    "\n",
    "For example, here are three personas for potential audiences of an explanation of quantum computing:\n",
    "\n",
    "- Mike is a third-grade student. He has fairly little experience with any computers at all, let alone quantum computers. But he suspects that computers might be able to help his with tough homework problems, and wants to know if this is true of quantum computers.\n",
    "- Nadine is a fifteen-year-old high school student. She is familiar with computers; most commonly she uses her iPhone to socialize, study, and take photoes. She has never heard of quantum computers before, but likes to impress her friends with cool facts about things she learns.\n",
    "- Alex is an undergraduate computer science student interested in machine learning and artificial intelligence. They taken courses in chemistry and physics, and knows the basics of how quantum computing differs from classical computing. They are curious about the kinds of problems that quantum computing could be used to solve, and how soon the technology might become commercially available.\n",
    "\n",
    "Write an audience persona for the target reader of your blog."
   ]
  },
  {
   "cell_type": "markdown",
   "id": "4d3fa31f-55ed-4536-bbe9-8984f90903e9",
   "metadata": {},
   "source": [
    "> Name: Wenyu\n",
    ">\n",
    "> Background:\n",
    ">\n",
    "> Wenyu is a mid-level data scientist with about 5 years of experience in the field. They have a strong foundation in traditional data science tools and techniques, including statistical analysis, machine learning, and programming languages like Python and R.\n",
    ">\n",
    "> Experience with the Subject:\n",
    "> Wenyu has a basic understanding of AI and machine learning models but limited experience with Large Language Models (LLMs) like ChatGPT. They have used simpler natural language processing tools in the past but are now looking to expand their skillset to include more advanced AI technologies.\n",
    "> \n",
    "> Motivation:\n",
    ">\n",
    "> Wenyu's primary motivation is to stay relevant and competitive in the rapidly evolving field of data science. They understand the growing importance of AI and LLMs and want to integrate these technologies into their work. Specifically, Wenyu is interested in learning how to effectively use ChatGPT for tasks like data analysis, generating insights, and automating parts of their workflow. They are also curious about the practical applications of prompt engineering in data science, hoping to leverage these techniques to enhance the accuracy and efficiency of their projects.\n",
    ">\n",
    "> Specific Goals:\n",
    ">\n",
    "> Gain a practical understanding of how to interact with and utilize ChatGPT in their data science projects. Learn the art of crafting effective prompts to get the most relevant and accurate responses from ChatGPT. Understand how to integrate ChatGPT into their existing data science workflows to improve productivity and decision-making. Wenyu represents a segment of your blog's target audience who are already skilled in data science but new to the world of advanced AI and LLMs. They seek practical, actionable guidance on harnessing these technologies for their professional development and to enhance their existing data science projects."
   ]
  },
  {
   "cell_type": "markdown",
   "id": "b4cef350-dd15-4f4b-a3a0-2d4f2cc86245",
   "metadata": {
    "Collapsed": "false",
    "toc-hr-collapsed": false
   },
   "source": [
    "## Exercise 3: Write a data science blog\n",
    "\n",
    "rubric={[data science blog post](#Rubric-data-science-blog-post):70} (scroll down to the bottom to see the rubric)\n",
    "\n",
    "### Guideline to get started\n",
    "\n",
    "**I highly recommend you check out this [guideline](https://towardsdatascience.com/questions-96667b06af5#1d11) from TowardsDataScience.com, a well-known publisher for data science blog**"
   ]
  },
  {
   "cell_type": "markdown",
   "id": "ff243566-82b1-4788-a908-b219eca715b6",
   "metadata": {},
   "source": [
    "### Types of blog post in data science\n",
    "\n",
    "There are many different types of blog posts that can be written in the field of data science. Some common types of blog posts include:\n",
    "\n",
    "- **Tutorials**: These posts provide step-by-step instructions or guidance on how to perform a specific task in data science, such as using a machine learning algorithm or creating a data visualization using a specific package/language.\n",
    "- **Explanations**: These posts aim to explain complex concepts or techniques in data science in a way that is easy for a general audience to understand. They might include examples or case studies to illustrate the concept or technique.\n",
    "- **News and analysis**: These posts discuss recent news or research in the field of data science, and provide analysis or commentary on the implications or significance of the news or research.\n",
    "- **Personal experiences**: These posts share the experiences of a data scientist or student learning data science, and might include stories about challenges and successes, as well as tips and advice for others interested in pursuing a career in data science.\n",
    "- **Comparisons and contrasts**: These posts compare and contrast different tools, approaches, or concepts in data science, and might include pros and cons or recommendations for when to use each option.\n",
    "\n",
    "Overall, there are many different types of blog posts that can be written in data science, and the type of post will depend on the goals and audience of the blog.\n",
    "\n",
    "For your inspiration, this is a blog post that Nico Van den Hooff, a MDS alumni, wrote last year  \n",
    "[Exploring the Most Popular Machine Learning and Deep Learning GitHub Repositories](https://medium.com/towards-data-science/exploring-the-most-popular-machine-learning-and-deep-learning-github-repositories-90b9ecf12be7)"
   ]
  },
  {
   "cell_type": "markdown",
   "id": "259bc085-0345-4ec0-9385-e18c54fc4bd2",
   "metadata": {
    "Collapsed": "false",
    "toc-hr-collapsed": false
   },
   "source": [
    "### Length\n",
    "\n",
    "For this assignment, we suggest aiming for a word count of around 2000 words, not including code, captions, references, etc. While there is no strict word limit, please consider the amount of time it will take your audience to read your post. Typically, a blog post takes 5-10 minutes to read. Keep this in mind as you plan and write your content.\n"
   ]
  },
  {
   "cell_type": "markdown",
   "id": "c59d4e5f-4009-4cd5-9ea9-7671e02bbd3c",
   "metadata": {},
   "source": [
    "### Some prompts to get you started (Optional)"
   ]
  },
  {
   "cell_type": "markdown",
   "id": "ec47130f-9b4f-48c7-bc5c-efb01269f3fc",
   "metadata": {},
   "source": [
    "- What is the main topic or concept you want to write about in your blog post? What makes it interesting or important to your audience?"
   ]
  },
  {
   "cell_type": "markdown",
   "id": "71aa22bd-29a1-49a3-a18c-42a025078e11",
   "metadata": {},
   "source": [
    "> ENTER YOUR ANSWER HERE"
   ]
  },
  {
   "cell_type": "markdown",
   "id": "28ea5f7a-cb2c-42d3-a911-0f1d110306d3",
   "metadata": {},
   "source": [
    "- What type of data science blog do you want to write? (see different types above)"
   ]
  },
  {
   "cell_type": "markdown",
   "id": "371e3243-c036-4f02-8455-13258b9bdf31",
   "metadata": {},
   "source": [
    "> ENTER YOUR ANSWER HERE"
   ]
  },
  {
   "cell_type": "markdown",
   "id": "316d1170-9443-407e-bf2c-0f52b765491e",
   "metadata": {},
   "source": [
    "- What are the key points or ideas you want to include in your blog post? How can you organize these points to create a clear and coherent structure for your post?"
   ]
  },
  {
   "cell_type": "markdown",
   "id": "8d4a19d4-88c9-48d0-a0d4-3df18ec36d00",
   "metadata": {},
   "source": [
    "> ENTER YOUR ANSWER HERE"
   ]
  },
  {
   "cell_type": "markdown",
   "id": "dd9d0668-f955-4888-bb95-223b5261e7c4",
   "metadata": {},
   "source": [
    "- How can you use examples or case studies to illustrate the concepts or techniques you are discussing in your blog post? What are some real-world applications of the topic you are writing about?"
   ]
  },
  {
   "cell_type": "markdown",
   "id": "e3930f3a-d00c-4da7-b7cb-9c8002ef0201",
   "metadata": {},
   "source": [
    "> ENTER YOUR ANSWER HERE"
   ]
  },
  {
   "cell_type": "markdown",
   "id": "eeb455b1-c02c-4a8e-929a-8e55e4428c94",
   "metadata": {},
   "source": [
    "- How can you make your blog post engaging and interactive for your audience? What types of media or interactive elements can you include to make your post more interesting and interactive?"
   ]
  },
  {
   "cell_type": "markdown",
   "id": "517a2232-4aa6-44f9-89b6-aaa2e89e76e9",
   "metadata": {},
   "source": [
    "> ENTER YOUR ANSWER HERE"
   ]
  },
  {
   "cell_type": "markdown",
   "id": "3d0c730e-ccab-43ff-8631-be4a97ac2eef",
   "metadata": {},
   "source": [
    "- How can you conclude your blog post in a way that leaves a lasting impression on your readers? What are the main takeaways you want your readers to remember after reading your post?"
   ]
  },
  {
   "cell_type": "markdown",
   "id": "cd8bb0c9-4930-417f-8490-30d5dcdc4330",
   "metadata": {},
   "source": [
    "> ENTER YOUR ANSWER HERE"
   ]
  },
  {
   "cell_type": "markdown",
   "id": "19140b71-abee-40ae-8bae-e7282b75ad77",
   "metadata": {},
   "source": [
    "===================================================="
   ]
  },
  {
   "cell_type": "markdown",
   "id": "2286fd77-1547-4713-9b41-2dd0c807e83d",
   "metadata": {},
   "source": [
    "### WHERE TO WRITE YOUR BLOG"
   ]
  },
  {
   "cell_type": "markdown",
   "id": "7fb9a6e1-796d-4870-ab6c-203295dcca43",
   "metadata": {},
   "source": [
    "In this exericse, we will ask you to write your blog on medium.com\n",
    "\n",
    "Step 1: Go to https://medium.com and create a free account using your email\n",
    "\n",
    "Step 2: Start writing! See an example here https://medium.com/@quan.nguyen_58329/data-science-blog-101-c98375bc3078 \n",
    "\n",
    "Step 3: Create a draft link to share with your classmates for peer-review. Submit the link to Canvas under lab 2 - peer review\n",
    " & paste the link at the top of this notebook\n",
    " \n",
    "![](https://miro.medium.com/max/576/1*I_W0C798F_bcY6w8jwGQ8g.png)"
   ]
  },
  {
   "cell_type": "markdown",
   "id": "e535aed2-5e6b-4bc8-a7f8-eea686b6fbcc",
   "metadata": {},
   "source": [
    "## In-lab writing activity"
   ]
  },
  {
   "cell_type": "markdown",
   "id": "f6803d0c-8e04-4bd3-866c-edef4bf86ec7",
   "metadata": {},
   "source": [
    "To make the most out of lab time, we are going to ask you to prepare:\n",
    "\n",
    "- An audience persona for your blog (exercise 2)\n",
    "- 3 different titles for your blog (we are going to ask for peer feedback on which title is the most captivating)\n",
    "- An abstract (200 words) to catch readers' attention and summarize what the blog post is about\n",
    "\n",
    "During the first half of the lab, we will ask you to exchange the audience persona, the titles, and the abstract with your peers and get their initial feedback."
   ]
  },
  {
   "cell_type": "markdown",
   "id": "da154954-e4f0-493a-97d8-a3fc8c782952",
   "metadata": {},
   "source": [
    "===================================================="
   ]
  },
  {
   "cell_type": "markdown",
   "id": "0c2edb82-6195-42c0-a624-4dba1caed43a",
   "metadata": {},
   "source": [
    "## Exercise 4: Peer Feedback (to be completed next week)\n",
    "\n",
    "rubric = {completion: 5% of total grade}\n",
    "\n",
    "After the submission deadline, you will get randomly assigned 2 blog posts from your classmates to review on Canvas. \n",
    "\n",
    "Peer review allows you to receive feedback on your writing from multiple peers, which help you see your work more objectively and identify areas where they can revise and improve their writing. It also fosters a sense of community and a safe environment to collaborate and help each other with constructive feedback.\n",
    "\n",
    "Read the blog posts carefully, paying attention to the content, organization, and style of the writing. Consider the following questions as you review:\n",
    "\n",
    "- Is the content of the blog post accurate and well-researched?\n",
    "- Is the structure of the blog post clear and logical?\n",
    "- Are the ideas in the blog post effectively communicated and easy to understand?\n",
    "- Is the writing style of the blog post engaging and appropriate for the audience?\n",
    "\n",
    "Write a review for each of the blog posts, addressing the above questions and any other issues you feel are relevant. Use specific examples from the posts to support your points.\n",
    "\n",
    "Submission instruction will be posted on Canvas under lab 2 - peer review"
   ]
  },
  {
   "cell_type": "markdown",
   "id": "0cafe08a-02b2-498e-99d4-0c3815968431",
   "metadata": {},
   "source": [
    "## (optional) Exercise: Get your blog published in [torwardsdatascience.com](https://towardsdatascience.com/about)\n",
    "\n"
   ]
  },
  {
   "cell_type": "markdown",
   "id": "b55dcf72-53d1-4eff-b2fe-5d7eff80fa14",
   "metadata": {},
   "source": [
    "Towards Data Science Inc. operates an independent Medium publication. They are one of the most popular data science blogs in the world and most-read Medium publications with more than 600K followers. As a data science student, you have probably came across many of their articles when you google data science related topics.\n",
    "\n",
    "You can become a contributor by submitting your article and they will provide you with feedback and decide if your article meets the quality to be published. Writers can also earn money through the [Medium Partner Program](https://medium.com/creators). You can share your article on Twitter, LinkedIn and build a network of data science writers all around the world. \n",
    "\n",
    "If you are interested, please read the rules for contribution here:\n",
    "\n",
    "https://towardsdatascience.com/questions-96667b06af5"
   ]
  },
  {
   "cell_type": "markdown",
   "id": "d2a70ba7-b241-4eb5-8224-b0060605799a",
   "metadata": {},
   "source": [
    "#### Academic integrity\n",
    "\n",
    "Reproduced from the [program policies and regulations](https://ubc-mds.github.io/policies/):\n",
    "\n",
    "> Plagiarism, which is intellectual theft, occurs where an individual submits or presents the oral or written work of another person as his or her own and can include:\n",
    "> \n",
    "> - multiple students submitting the same response\n",
    "> - copying from sources without citing them\n",
    "> - copying verbatim (word-for-word) from source and citing, but failing to make it explicit that this is a quotation (quotations should be used only rarely, if at all)\n",
    "> - using chatGPT or any similar AI text generation tools\n",
    "> \n",
    "> Plagiarism will not be tolerated in the MDS program and may result in a zero grade in the assignment or quiz where plagiarism is observed. Students are responsible for ensuring that any work submitted does not constitute plagiarism. Students who are in any doubt as to what constitutes plagiarism should consult their Instructor or Teaching Fellow before handing in any assignments.\n",
    "> \n",
    "> For more information see the [UBC Academic Misconduct policies](http://www.calendar.ubc.ca/vancouver/index.cfm?tree=3,54,111,959).\n",
    "\n",
    "In short, write your blog in your own words, and give credit where credit is due."
   ]
  },
  {
   "cell_type": "markdown",
   "id": "ddcf7bd8-277b-4a43-8932-9048c6cdd6d3",
   "metadata": {},
   "source": [
    "## Rubric writing for non-technical audience\n",
    "\n",
    "| Criteria                                  | 5 - Excellent                                                                                                                                                                                | 4 - Very good                                                                                                                                                        | 3 - Good                                                                                                                                                                         | 2 - Fair                                                                                                                         | 1 - Poor                                                                                                                        |\n",
    "|-------------------------------------------|----------------------------------------------------------------------------------------------------------------------------------------------------------------------------------------------|----------------------------------------------------------------------------------------------------------------------------------------------------------------------|----------------------------------------------------------------------------------------------------------------------------------------------------------------------------------|----------------------------------------------------------------------------------------------------------------------------------|---------------------------------------------------------------------------------------------------------------------------------|\n",
    "| Writing                                   | The writing is clear, concise, and easy for a non-technical audience to understand, with minimal use of technical terms and engaging explanations of complex concepts.                       | The writing is clear, concise, and easy for a non-technical audience to understand, with minimal use of technical terms and simple explanations of complex concepts. | The writing is generally clear and easy for a non-technical audience to understand, with minimal use of technical terms or complex explanations.                                 | The writing is somewhat difficult for a non-technical audience to understand, with some technical terms or complex explanations. | The writing is difficult for a non-technical   audience to understand, with numerous technical terms or complex   explanations. |\n",
    "| Visual aids (images, code block, latex,…) | The writing uses visual aids that are highly relevant, well-designed, and effective at enhancing the content of the explanation, and provide valuable insights or information to the reader. | The writing uses visual aids that are relevant, well-designed, and effective at enhancing the content of the writing.                                            | The writing uses visual aids that are relevant and enhance the content of the writing, but they may not be well-designed or effective at conveying the intended information. | The writing uses some visual aids, but they do not effectively enhance the content of the writing.                           | The writing does not use any visual aids, or the visual aids are not relevant or effective.                                   |\n",
    "|                                                                                                                                                   |"
   ]
  },
  {
   "cell_type": "markdown",
   "id": "43d281ca-2e8d-4dc8-9309-20804c32ab3c",
   "metadata": {},
   "source": [
    "### Rubric data science blog post\n",
    "\n",
    "| Criteria                                  | 5 - Excellent                                                                                                                                                                                                    | 4 - Very good                                                                                                                                                | 3 - Good                                                                                                                                                                         | 2 - Fair                                                                                                                                                 | 1 - Poor                                                                                                                                                            |\n",
    "|-------------------------------------------|------------------------------------------------------------------------------------------------------------------------------------------------------------------------------------------------------------------|--------------------------------------------------------------------------------------------------------------------------------------------------------------|----------------------------------------------------------------------------------------------------------------------------------------------------------------------------------|----------------------------------------------------------------------------------------------------------------------------------------------------------|---------------------------------------------------------------------------------------------------------------------------------------------------------------------|\n",
    "| Relevance                                 | The chosen topic is timely, useful, and appealing to the vast majority of readers in data science                                                                                                                | The chosen topic is intesting to many readers in data science                                                                                                | The chose topic is appropriate and suitable for readers in data science                                                                                                          | The chosen topic is related to data science but not interesting                                                                                          | The chosen topic is not related to data science                                                                                                                     |\n",
    "| Quality                                   | The post demonstrates excellent understanding of the concept being explained. The topic is well researched and the post cites relevant and credible sources.                                                     | The post demonstrates a general understanding of the concept being explained. The topic is well researched and the post cites some sources.                  | The post demonstrates a general understanding of the concept being explained but did not include any references.                                                                 | The post demonstrates one major (or several minor) misunderstandings of the concept being explained.                                                     | The post demonstrates several major misunderstandings of the concept being explained.                                                                               |\n",
    "| Implications                              | The blog post provides a comprehensive and well-supported discussion of the implications or significance of the topic, and offers insights or recommendations for further consideration.                         | The blog post thoroughly and effectively discusses the implications or significance of the topic, with strong support and analysis.                          | The blog post discusses the implications or significance of the topic in some detail, but there may be some gaps or weaknesses in the argument.                                  | The blog post briefly touches on the implications or significance of the topic, but the ideas are not fully developed or well-supported.                 | The blog post does not address the implications or significance of the topic at all, or the implications and significance are not well-developed or well-supported. |\n",
    "| Organization                              | The blog post has a highly effective and engaging structure, with clear headings and subheadings and seamless transitions between ideas.                                                                         | The blog post has an effective and engaging structure, with clear headings and subheadings to guide the reader.                                              | The blog post has a clear structure and organization, with logical transitions between ideas.                                                                                    | The blog post has a basic structure, but the ideas are not well-organized or connected.                                                                  | The blog post lacks a clear structure and organization, making it difficult for the reader to follow.                                                               |\n",
    "| Visual aids (images, code block, latex,…) | The blog post uses visual aids that are highly relevant, well-designed, and effective at enhancing the content of the blog post, and provide valuable insights or information to the reader.                     | The blog post uses visual aids that are relevant, well-designed, and effective at enhancing the content of the blog post.                                    | The blog post uses visual aids that are relevant and enhance the content of the blog post, but they may not be well-designed or effective at conveying the intended information. | The blog post uses some visual aids, but they do not effectively enhance the content of the blog post.                                                   | The blog post does not use any visual aids, or the visual aids are not relevant or effective.                                                                       |\n",
    "| Writing                                   | The writing is clear, concise, and easy to understand, with no spelling, grammar, or syntax errors, and uses concise and engaging language that effectively conveys the intended message and engages the reader. | The writing is clear, concise, and easy to understand, with no spelling, grammar, or syntax errors, and uses concise and engaging language for the audience. | The writing is generally clear and easy to understand, with few spelling, grammar, or syntax errors, and uses appropriate language for the audience.                             | The writing is somewhat difficult to understand, with some spelling, grammar, or syntax errors, or uses language that is sometimes unclear or confusing. | The writing is difficult to understand, with numerous spelling, grammar, or syntax errors, or uses inappropriate or confusing language.                             |"
   ]
  }
 ],
 "metadata": {
  "kernelspec": {
   "display_name": "R",
   "language": "R",
   "name": "ir"
  },
  "language_info": {
   "codemirror_mode": "r",
   "file_extension": ".r",
   "mimetype": "text/x-r-source",
   "name": "R",
   "pygments_lexer": "r",
   "version": "4.3.1"
  }
 },
 "nbformat": 4,
 "nbformat_minor": 5
}
